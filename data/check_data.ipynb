{
 "cells": [
  {
   "cell_type": "code",
   "execution_count": 1,
   "outputs": [],
   "source": [
    "import os\n",
    "import h5py\n",
    "import numpy as np\n",
    "import torch\n",
    "from torch.utils.data import TensorDataset"
   ],
   "metadata": {
    "collapsed": false,
    "pycharm": {
     "name": "#%%\n"
    }
   }
  },
  {
   "cell_type": "code",
   "execution_count": 2,
   "outputs": [],
   "source": [
    "train_data = h5py.File('D:/data/FederatedEMNIST/fed_emnist_train.h5', 'r')\n",
    "test_data = h5py.File('D:/data/FederatedEMNIST/fed_emnist_test.h5', 'r')"
   ],
   "metadata": {
    "collapsed": false,
    "pycharm": {
     "name": "#%%\n"
    }
   }
  },
  {
   "cell_type": "code",
   "execution_count": 3,
   "outputs": [
    {
     "name": "stdout",
     "output_type": "stream",
     "text": [
      "3400 3400\n"
     ]
    }
   ],
   "source": [
    "train_ids = list(train_data['examples'].keys())\n",
    "test_ids = list(test_data['examples'].keys())\n",
    "num_clients_train = len(train_ids)\n",
    "num_clients_test = len(test_ids)\n",
    "print(num_clients_train, num_clients_test)"
   ],
   "metadata": {
    "collapsed": false,
    "pycharm": {
     "name": "#%%\n"
    }
   }
  },
  {
   "cell_type": "code",
   "execution_count": 4,
   "outputs": [
    {
     "name": "stdout",
     "output_type": "stream",
     "text": [
      "62\n"
     ]
    }
   ],
   "source": [
    "num_classes = len(np.unique([train_data['examples'][train_ids[idx]]['label'][0] for idx in range(num_clients_train)]))\n",
    "print(num_classes)"
   ],
   "metadata": {
    "collapsed": false,
    "pycharm": {
     "name": "#%%\n"
    }
   }
  },
  {
   "cell_type": "code",
   "execution_count": 5,
   "outputs": [],
   "source": [
    "# local dataset\n",
    "train_data_local_dict, train_data_local_num_dict = {}, {}\n",
    "test_data_local_dict, test_data_local_num_dict = {}, {}\n",
    "\n",
    "for client_idx in range(num_clients_train):\n",
    "    client_id = train_ids[client_idx]\n",
    "\n",
    "    train_x = train_data['examples'][client_id]['pixels'][()]\n",
    "    train_y = train_data['examples'][client_id]['label'][()]\n",
    "    local_data = TensorDataset(torch.tensor(train_x), torch.tensor(train_y, dtype=torch.long))\n",
    "    train_data_local_dict[client_idx] = local_data\n",
    "    train_data_local_num_dict[client_idx] = len(train_x)\n",
    "\n",
    "    test_x = test_data['examples'][client_id]['pixels'][()]\n",
    "    test_y = test_data['examples'][client_id]['label'][()]\n",
    "    local_data = TensorDataset(torch.tensor(test_x), torch.tensor(test_y, dtype=torch.long))\n",
    "    test_data_local_dict[client_idx] = local_data\n",
    "    test_data_local_num_dict[client_idx] = len(test_x)\n",
    "    if len(test_x) == 0:\n",
    "        print(client_idx)"
   ],
   "metadata": {
    "collapsed": false,
    "pycharm": {
     "name": "#%%\n"
    }
   }
  },
  {
   "cell_type": "code",
   "execution_count": 6,
   "outputs": [],
   "source": [
    "train_data.close()\n",
    "test_data.close()"
   ],
   "metadata": {
    "collapsed": false,
    "pycharm": {
     "name": "#%%\n"
    }
   }
  },
  {
   "cell_type": "code",
   "execution_count": 7,
   "outputs": [],
   "source": [
    "dataset = {}\n",
    "dataset['train'] = {\n",
    "    'data_sizes': train_data_local_num_dict,\n",
    "    'data': train_data_local_dict,\n",
    "}\n",
    "dataset['test'] = {\n",
    "    'data_sizes': test_data_local_num_dict,\n",
    "    'data': test_data_local_dict,\n",
    "}"
   ],
   "metadata": {
    "collapsed": false,
    "pycharm": {
     "name": "#%%\n"
    }
   }
  },
  {
   "cell_type": "code",
   "execution_count": 8,
   "outputs": [],
   "source": [
    "import pickle\n",
    "with open('D:/data/FederatedEMNIST/FederatedEMNIST_preprocessed.pickle', 'wb') as f:\n",
    "    pickle.dump(dataset, f)"
   ],
   "metadata": {
    "collapsed": false,
    "pycharm": {
     "name": "#%%\n"
    }
   }
  },
  {
   "cell_type": "code",
   "execution_count": null,
   "outputs": [],
   "source": [],
   "metadata": {
    "collapsed": false,
    "pycharm": {
     "name": "#%%\n"
    }
   }
  },
  {
   "cell_type": "code",
   "execution_count": null,
   "outputs": [],
   "source": [],
   "metadata": {
    "collapsed": false,
    "pycharm": {
     "name": "#%%\n"
    }
   }
  },
  {
   "cell_type": "code",
   "execution_count": 57,
   "outputs": [],
   "source": [
    "import os\n",
    "import torchvision.datasets as D\n",
    "from torch.utils.data import Subset\n",
    "from tqdm import tqdm"
   ],
   "metadata": {
    "collapsed": false,
    "pycharm": {
     "name": "#%%\n"
    }
   }
  },
  {
   "cell_type": "code",
   "execution_count": 23,
   "outputs": [],
   "source": [
    "train_idx_file = os.path.join('D:/data/img_clf/ExtractedFeatures/Caltech256_train.txt')\n",
    "test_idx_file = os.path.join('D:/data/img_clf/ExtractedFeatures/Caltech256_test.txt')\n",
    "with open(train_idx_file, 'r') as f:\n",
    "    train_img_names = f.readlines()\n",
    "with open(test_idx_file, 'r') as f:\n",
    "    test_img_names = f.readlines()\n",
    "\n",
    "train_img_names = [x.replace('\\n','') for x in train_img_names]\n",
    "test_img_names = [x.replace('\\n','') for x in test_img_names]"
   ],
   "metadata": {
    "collapsed": false,
    "pycharm": {
     "name": "#%%\n"
    }
   }
  },
  {
   "cell_type": "code",
   "execution_count": 59,
   "outputs": [],
   "source": [
    "img_path = 'D:/data/img_clf/Caltech256'\n",
    "data = D.ImageFolder(root=img_path)"
   ],
   "metadata": {
    "collapsed": false,
    "pycharm": {
     "name": "#%%\n"
    }
   }
  },
  {
   "cell_type": "code",
   "execution_count": 60,
   "outputs": [
    {
     "data": {
      "text/plain": "[('D:/data/img_clf/Caltech256\\\\001.ak47\\\\001_0001.jpg', 0),\n ('D:/data/img_clf/Caltech256\\\\001.ak47\\\\001_0002.jpg', 0),\n ('D:/data/img_clf/Caltech256\\\\001.ak47\\\\001_0003.jpg', 0)]"
     },
     "execution_count": 60,
     "metadata": {},
     "output_type": "execute_result"
    }
   ],
   "source": [
    "data.imgs[:3]"
   ],
   "metadata": {
    "collapsed": false,
    "pycharm": {
     "name": "#%%\n"
    }
   }
  },
  {
   "cell_type": "code",
   "execution_count": 61,
   "outputs": [
    {
     "data": {
      "text/plain": "['001.ak47/001_0003.jpg', '001.ak47/001_0004.jpg', '001.ak47/001_0007.jpg']"
     },
     "execution_count": 61,
     "metadata": {},
     "output_type": "execute_result"
    }
   ],
   "source": [
    "train_img_names.sort()\n",
    "test_img_names.sort()\n",
    "test_img_names[:3]"
   ],
   "metadata": {
    "collapsed": false,
    "pycharm": {
     "name": "#%%\n"
    }
   }
  },
  {
   "cell_type": "code",
   "execution_count": 49,
   "outputs": [
    {
     "data": {
      "text/plain": "'257.clutter/257_0827.jpg'"
     },
     "execution_count": 49,
     "metadata": {},
     "output_type": "execute_result"
    }
   ],
   "source": [
    "img_name"
   ],
   "metadata": {
    "collapsed": false,
    "pycharm": {
     "name": "#%%\n"
    }
   }
  },
  {
   "cell_type": "code",
   "execution_count": 53,
   "outputs": [
    {
     "data": {
      "text/plain": "['001.ak47/001_0001.jpg',\n '001.ak47/001_0002.jpg',\n '001.ak47/001_0005.jpg',\n '001.ak47/001_0006.jpg',\n '001.ak47/001_0008.jpg']"
     },
     "execution_count": 53,
     "metadata": {},
     "output_type": "execute_result"
    }
   ],
   "source": [
    "train_img_names[:5]"
   ],
   "metadata": {
    "collapsed": false,
    "pycharm": {
     "name": "#%%\n"
    }
   }
  },
  {
   "cell_type": "code",
   "execution_count": 63,
   "outputs": [
    {
     "name": "stderr",
     "output_type": "stream",
     "text": [
      "30607it [00:03, 8784.24it/s] \n"
     ]
    }
   ],
   "source": [
    "train_indices, test_indices = [], []\n",
    "for idx, (img, label) in tqdm(enumerate(data.imgs)):\n",
    "    img_name = '/'.join(img.split('\\\\')[-2:])\n",
    "    if img_name in train_img_names:\n",
    "        train_indices.append(idx)\n",
    "    else:\n",
    "        test_indices.append(idx)"
   ],
   "metadata": {
    "collapsed": false,
    "pycharm": {
     "name": "#%%\n"
    }
   }
  },
  {
   "cell_type": "code",
   "execution_count": 64,
   "outputs": [
    {
     "data": {
      "text/plain": "(22897, 7710)"
     },
     "execution_count": 64,
     "metadata": {},
     "output_type": "execute_result"
    }
   ],
   "source": [
    "len(train_indices), len(test_indices)"
   ],
   "metadata": {
    "collapsed": false,
    "pycharm": {
     "name": "#%%\n"
    }
   }
  },
  {
   "cell_type": "code",
   "execution_count": 71,
   "outputs": [],
   "source": [
    "with open('D:/data/img_clf/ExtractedFeatures/Caltech_train_idx.txt', 'w') as f:\n",
    "    for x in train_indices:\n",
    "        f.write(str(x)+',')"
   ],
   "metadata": {
    "collapsed": false,
    "pycharm": {
     "name": "#%%\n"
    }
   }
  },
  {
   "cell_type": "code",
   "execution_count": 72,
   "outputs": [],
   "source": [
    "with open('D:/data/img_clf/ExtractedFeatures/Caltech_test_idx.txt', 'w') as f:\n",
    "    for x in test_indices:\n",
    "        f.write(str(x)+',')"
   ],
   "metadata": {
    "collapsed": false,
    "pycharm": {
     "name": "#%%\n"
    }
   }
  },
  {
   "cell_type": "code",
   "execution_count": null,
   "outputs": [],
   "source": [
    "\n"
   ],
   "metadata": {
    "collapsed": false,
    "pycharm": {
     "name": "#%%\n"
    }
   }
  },
  {
   "cell_type": "code",
   "execution_count": 27,
   "outputs": [],
   "source": [
    "import os\n",
    "import numpy as np\n",
    "import torch\n",
    "from torch.utils.data import DataLoader, Subset\n",
    "import torchvision.transforms as T\n",
    "import torchvision.datasets as D\n",
    "from tqdm import tqdm"
   ],
   "metadata": {
    "collapsed": false,
    "pycharm": {
     "name": "#%%\n"
    }
   }
  },
  {
   "cell_type": "code",
   "execution_count": 28,
   "outputs": [],
   "source": [
    "### to normalize images\n",
    "def get_img_mean(Dataset):\n",
    "    loader = DataLoader(\n",
    "        Dataset,\n",
    "        batch_size=1000, num_workers=0, shuffle=False\n",
    "    )\n",
    "\n",
    "    mean = torch.zeros(3)\n",
    "    mean2 = torch.zeros(3)\n",
    "    total = torch.zeros(1)\n",
    "    print('--> get mean&stdv of images')\n",
    "    for data, _ in tqdm(loader):\n",
    "        mean += torch.sum(data, dim=(0, 2, 3), keepdim=False)\n",
    "        mean2 += torch.sum((data ** 2), dim=(0, 2, 3), keepdim=False)\n",
    "        total += data.size(0)\n",
    "\n",
    "    total *= (data.size(2) ** 2)\n",
    "    mean /= total\n",
    "    std = torch.sqrt((mean2 - total * (mean ** 2)) / (total - 1))\n",
    "\n",
    "    mean = list(np.around(mean.numpy(), 4))\n",
    "    std = list(np.around(std.numpy(), 4))\n",
    "    return mean, std"
   ],
   "metadata": {
    "collapsed": false,
    "pycharm": {
     "name": "#%%\n"
    }
   }
  },
  {
   "cell_type": "code",
   "execution_count": 8,
   "outputs": [
    {
     "name": "stdout",
     "output_type": "stream",
     "text": [
      "22897 7710\n"
     ]
    }
   ],
   "source": [
    "import os\n",
    "\n",
    "train_idx_file = os.path.join('D:/data/img_clf/ExtractedFeatures/Caltech256_train_idx.txt')\n",
    "test_idx_file = os.path.join('D:/data/img_clf/ExtractedFeatures/Caltech256_test_idx.txt')\n",
    "\n",
    "with open(train_idx_file, 'r') as f:\n",
    "    train_indices = f.readlines()\n",
    "with open(test_idx_file, 'r') as f:\n",
    "    test_indices = f.readlines()\n",
    "\n",
    "train_indices = list(map(int, train_indices[0].split(',')[:-1]))\n",
    "test_indices = list(map(int, test_indices[0].split(',')[:-1]))\n",
    "print(len(train_indices), len(test_indices))"
   ],
   "metadata": {
    "collapsed": false,
    "pycharm": {
     "name": "#%%\n"
    }
   }
  },
  {
   "cell_type": "code",
   "execution_count": 30,
   "outputs": [
    {
     "name": "stdout",
     "output_type": "stream",
     "text": [
      "--> get mean&stdv of images\n"
     ]
    },
    {
     "name": "stderr",
     "output_type": "stream",
     "text": [
      "100%|██████████| 23/23 [04:12<00:00, 10.96s/it]\n"
     ]
    },
    {
     "data": {
      "text/plain": "([0.5511, 0.5335, 0.5052], [0.3151, 0.3116, 0.3257])"
     },
     "execution_count": 30,
     "metadata": {},
     "output_type": "execute_result"
    }
   ],
   "source": [
    "transform = T.Compose([\n",
    "    T.Resize((224,224)),\n",
    "    T.ToTensor()\n",
    "])\n",
    "\n",
    "train_data = D.ImageFolder(root='D:/data/img_clf/Caltech256', transform=transform)\n",
    "train_data = Subset(train_data, train_indices)\n",
    "\n",
    "get_img_mean(train_data)"
   ],
   "metadata": {
    "collapsed": false,
    "pycharm": {
     "name": "#%%\n"
    }
   }
  },
  {
   "cell_type": "code",
   "execution_count": 1,
   "outputs": [],
   "source": [
    "import random\n",
    "\n",
    "indices = [*range(22897 + 7710)]\n",
    "random.seed(0)\n",
    "random.shuffle(indices)\n",
    "train_indices, test_indices = indices[:22897], indices[22897:]"
   ],
   "metadata": {
    "collapsed": false,
    "pycharm": {
     "name": "#%%\n"
    }
   }
  },
  {
   "cell_type": "code",
   "execution_count": 4,
   "outputs": [],
   "source": [
    "import torchvision.datasets as D\n",
    "from torch.utils.data import DataLoader, Subset\n",
    "\n",
    "data = D.ImageFolder(root='D:/data/img_clf/Caltech256')\n",
    "train_data = Subset(data, train_indices)"
   ],
   "metadata": {
    "collapsed": false,
    "pycharm": {
     "name": "#%%\n"
    }
   }
  },
  {
   "cell_type": "code",
   "execution_count": 10,
   "outputs": [
    {
     "data": {
      "text/plain": "[0,\n 1,\n 3,\n 5,\n 6,\n 9,\n 10,\n 11,\n 13,\n 15,\n 17,\n 18,\n 19,\n 20,\n 22,\n 24,\n 25,\n 27,\n 28,\n 29,\n 30,\n 31,\n 32,\n 35,\n 36,\n 39,\n 41,\n 43,\n 44,\n 46,\n 47,\n 50,\n 52,\n 54,\n 55,\n 56,\n 57,\n 58,\n 61,\n 62,\n 64,\n 65,\n 66,\n 67,\n 68,\n 69,\n 70,\n 71,\n 73,\n 74,\n 75,\n 76,\n 78,\n 79,\n 81,\n 82,\n 83,\n 84,\n 85,\n 87,\n 88,\n 89,\n 91,\n 92,\n 93,\n 95,\n 97,\n 98,\n 99,\n 102,\n 103,\n 104,\n 106,\n 107,\n 108,\n 109,\n 112,\n 113,\n 114,\n 115,\n 116,\n 117,\n 118,\n 119,\n 120,\n 123,\n 124,\n 125,\n 127,\n 128,\n 129,\n 130,\n 131,\n 132,\n 134,\n 136,\n 137,\n 140,\n 141,\n 142,\n 144,\n 145,\n 146,\n 148,\n 149,\n 150,\n 151,\n 152,\n 153,\n 154,\n 156,\n 157,\n 158,\n 159,\n 160,\n 162,\n 163,\n 165,\n 166,\n 167,\n 169,\n 171,\n 172,\n 173,\n 174,\n 175,\n 176,\n 177,\n 178,\n 180,\n 181,\n 182,\n 183,\n 185,\n 186,\n 187,\n 188,\n 189,\n 190,\n 191,\n 192,\n 193,\n 195,\n 197,\n 198,\n 199,\n 200,\n 201,\n 202,\n 204,\n 205,\n 206,\n 207,\n 208,\n 209,\n 212,\n 213,\n 214,\n 215,\n 216,\n 217,\n 218,\n 220,\n 221,\n 222,\n 224,\n 227,\n 228,\n 230,\n 234,\n 236,\n 237,\n 238,\n 239,\n 241,\n 243,\n 244,\n 245,\n 247,\n 248,\n 249,\n 250,\n 251,\n 252,\n 253,\n 256,\n 258,\n 259,\n 260,\n 262,\n 263,\n 266,\n 267,\n 268,\n 270,\n 271,\n 272,\n 273,\n 275,\n 278,\n 279,\n 280,\n 281,\n 283,\n 284,\n 285,\n 286,\n 287,\n 288,\n 289,\n 290,\n 292,\n 296,\n 298,\n 299,\n 300,\n 304,\n 306,\n 307,\n 308,\n 309,\n 310,\n 311,\n 312,\n 313,\n 314,\n 317,\n 319,\n 320,\n 321,\n 322,\n 323,\n 325,\n 328,\n 329,\n 330,\n 332,\n 333,\n 334,\n 335,\n 337,\n 339,\n 340,\n 341,\n 342,\n 344,\n 346,\n 347,\n 348,\n 349,\n 351,\n 353,\n 354,\n 355,\n 357,\n 358,\n 360,\n 361,\n 362,\n 363,\n 364,\n 365,\n 366,\n 367,\n 368,\n 369,\n 370,\n 371,\n 372,\n 374,\n 375,\n 376,\n 378,\n 379,\n 380,\n 382,\n 383,\n 384,\n 385,\n 386,\n 387,\n 388,\n 389,\n 391,\n 392,\n 393,\n 394,\n 395,\n 396,\n 397,\n 398,\n 400,\n 401,\n 402,\n 403,\n 404,\n 405,\n 406,\n 408,\n 409,\n 410,\n 411,\n 412,\n 413,\n 416,\n 417,\n 418,\n 419,\n 420,\n 421,\n 422,\n 423,\n 424,\n 425,\n 426,\n 427,\n 428,\n 429,\n 430,\n 433,\n 435,\n 436,\n 437,\n 438,\n 439,\n 440,\n 443,\n 444,\n 445,\n 449,\n 450,\n 451,\n 452,\n 453,\n 454,\n 455,\n 458,\n 459,\n 461,\n 463,\n 465,\n 466,\n 469,\n 470,\n 471,\n 472,\n 473,\n 474,\n 476,\n 477,\n 478,\n 479,\n 480,\n 481,\n 483,\n 487,\n 489,\n 490,\n 491,\n 492,\n 493,\n 494,\n 495,\n 496,\n 498,\n 499,\n 502,\n 503,\n 504,\n 505,\n 506,\n 510,\n 511,\n 512,\n 513,\n 515,\n 516,\n 517,\n 518,\n 519,\n 520,\n 521,\n 522,\n 524,\n 525,\n 526,\n 527,\n 528,\n 529,\n 530,\n 532,\n 533,\n 534,\n 536,\n 537,\n 538,\n 539,\n 541,\n 543,\n 544,\n 545,\n 546,\n 548,\n 549,\n 550,\n 552,\n 553,\n 555,\n 557,\n 558,\n 559,\n 560,\n 561,\n 562,\n 564,\n 565,\n 566,\n 567,\n 568,\n 569,\n 571,\n 572,\n 573,\n 575,\n 576,\n 577,\n 578,\n 579,\n 580,\n 581,\n 583,\n 585,\n 587,\n 588,\n 589,\n 590,\n 591,\n 593,\n 594,\n 595,\n 596,\n 600,\n 601,\n 602,\n 603,\n 604,\n 605,\n 606,\n 607,\n 609,\n 610,\n 611,\n 612,\n 614,\n 615,\n 616,\n 617,\n 618,\n 619,\n 620,\n 622,\n 623,\n 624,\n 625,\n 626,\n 628,\n 630,\n 631,\n 632,\n 633,\n 635,\n 636,\n 637,\n 638,\n 640,\n 641,\n 642,\n 643,\n 644,\n 645,\n 646,\n 647,\n 648,\n 650,\n 651,\n 652,\n 653,\n 655,\n 656,\n 657,\n 658,\n 659,\n 660,\n 663,\n 664,\n 665,\n 667,\n 668,\n 669,\n 670,\n 672,\n 674,\n 675,\n 678,\n 680,\n 681,\n 682,\n 683,\n 684,\n 685,\n 687,\n 690,\n 691,\n 692,\n 694,\n 695,\n 696,\n 698,\n 700,\n 701,\n 702,\n 703,\n 704,\n 705,\n 707,\n 709,\n 710,\n 712,\n 714,\n 716,\n 717,\n 722,\n 723,\n 724,\n 725,\n 727,\n 728,\n 729,\n 730,\n 731,\n 732,\n 733,\n 734,\n 735,\n 736,\n 738,\n 739,\n 740,\n 741,\n 742,\n 743,\n 745,\n 748,\n 749,\n 751,\n 752,\n 753,\n 754,\n 755,\n 756,\n 757,\n 758,\n 759,\n 762,\n 764,\n 765,\n 766,\n 767,\n 768,\n 769,\n 770,\n 771,\n 772,\n 773,\n 774,\n 775,\n 776,\n 777,\n 780,\n 782,\n 784,\n 785,\n 786,\n 788,\n 789,\n 791,\n 793,\n 794,\n 797,\n 798,\n 799,\n 801,\n 802,\n 803,\n 805,\n 808,\n 809,\n 811,\n 812,\n 814,\n 815,\n 816,\n 817,\n 819,\n 820,\n 821,\n 822,\n 823,\n 825,\n 826,\n 827,\n 829,\n 830,\n 832,\n 835,\n 836,\n 838,\n 839,\n 840,\n 841,\n 842,\n 843,\n 845,\n 846,\n 847,\n 848,\n 849,\n 850,\n 851,\n 854,\n 856,\n 857,\n 859,\n 862,\n 863,\n 864,\n 865,\n 867,\n 868,\n 869,\n 870,\n 871,\n 872,\n 875,\n 876,\n 877,\n 879,\n 881,\n 882,\n 883,\n 885,\n 887,\n 888,\n 889,\n 890,\n 891,\n 895,\n 896,\n 897,\n 898,\n 899,\n 900,\n 901,\n 902,\n 903,\n 906,\n 909,\n 911,\n 912,\n 914,\n 916,\n 917,\n 918,\n 919,\n 920,\n 921,\n 922,\n 924,\n 925,\n 927,\n 928,\n 929,\n 930,\n 931,\n 932,\n 933,\n 934,\n 937,\n 938,\n 939,\n 940,\n 941,\n 942,\n 943,\n 945,\n 947,\n 948,\n 949,\n 950,\n 951,\n 952,\n 953,\n 955,\n 956,\n 957,\n 958,\n 959,\n 961,\n 963,\n 964,\n 965,\n 966,\n 967,\n 968,\n 969,\n 970,\n 971,\n 974,\n 975,\n 977,\n 978,\n 979,\n 980,\n 981,\n 982,\n 985,\n 988,\n 989,\n 990,\n 991,\n 992,\n 993,\n 994,\n 995,\n 996,\n 997,\n 998,\n 999,\n 1000,\n 1001,\n 1003,\n 1004,\n 1007,\n 1009,\n 1011,\n 1012,\n 1013,\n 1014,\n 1015,\n 1017,\n 1018,\n 1021,\n 1024,\n 1025,\n 1026,\n 1028,\n 1029,\n 1030,\n 1031,\n 1032,\n 1035,\n 1036,\n 1037,\n 1038,\n 1039,\n 1040,\n 1042,\n 1043,\n 1044,\n 1045,\n 1046,\n 1047,\n 1049,\n 1050,\n 1051,\n 1052,\n 1053,\n 1054,\n 1055,\n 1059,\n 1060,\n 1061,\n 1062,\n 1064,\n 1065,\n 1066,\n 1067,\n 1068,\n 1069,\n 1071,\n 1072,\n 1074,\n 1075,\n 1076,\n 1077,\n 1079,\n 1081,\n 1082,\n 1086,\n 1087,\n 1088,\n 1089,\n 1091,\n 1092,\n 1093,\n 1094,\n 1095,\n 1096,\n 1097,\n 1098,\n 1099,\n 1100,\n 1102,\n 1103,\n 1104,\n 1106,\n 1108,\n 1109,\n 1110,\n 1111,\n 1112,\n 1114,\n 1115,\n 1117,\n 1118,\n 1119,\n 1120,\n 1121,\n 1122,\n 1124,\n 1125,\n 1126,\n 1129,\n 1130,\n 1131,\n 1132,\n 1133,\n 1134,\n 1136,\n 1137,\n 1138,\n 1140,\n 1141,\n 1142,\n 1146,\n 1147,\n 1148,\n 1151,\n 1153,\n 1154,\n 1155,\n 1156,\n 1157,\n 1158,\n 1159,\n 1160,\n 1163,\n 1164,\n 1165,\n 1166,\n 1167,\n 1170,\n 1171,\n 1172,\n 1173,\n 1174,\n 1175,\n 1176,\n 1178,\n 1179,\n 1181,\n 1182,\n 1183,\n 1184,\n 1185,\n 1186,\n 1188,\n 1189,\n 1193,\n 1194,\n 1196,\n 1197,\n 1198,\n 1199,\n 1200,\n 1201,\n 1203,\n 1204,\n 1206,\n 1207,\n 1208,\n 1209,\n 1211,\n 1212,\n 1213,\n 1214,\n 1215,\n 1216,\n 1217,\n 1219,\n 1221,\n 1222,\n 1223,\n 1224,\n 1225,\n 1227,\n 1228,\n 1229,\n 1230,\n 1232,\n 1233,\n 1234,\n 1235,\n 1236,\n 1238,\n 1241,\n 1242,\n 1243,\n 1244,\n 1245,\n 1246,\n 1247,\n 1248,\n 1249,\n 1250,\n 1259,\n 1261,\n 1262,\n 1263,\n 1265,\n 1267,\n 1268,\n 1269,\n 1270,\n 1271,\n 1272,\n 1273,\n 1276,\n 1277,\n 1278,\n 1279,\n 1280,\n 1282,\n 1283,\n 1284,\n 1285,\n 1286,\n 1287,\n 1288,\n 1292,\n 1293,\n 1294,\n 1295,\n 1296,\n 1299,\n 1300,\n 1301,\n 1303,\n 1304,\n 1305,\n 1306,\n 1307,\n 1308,\n 1309,\n 1311,\n 1313,\n 1314,\n 1315,\n 1316,\n 1317,\n 1318,\n 1322,\n 1323,\n 1324,\n 1327,\n 1329,\n 1330,\n 1333,\n 1334,\n 1335,\n 1336,\n 1338,\n 1341,\n 1342,\n 1343,\n 1346,\n 1347,\n 1348,\n 1352,\n 1353,\n 1355,\n 1356,\n 1357,\n 1361,\n 1363,\n 1364,\n 1365,\n 1366,\n 1367,\n 1368,\n ...]"
     },
     "execution_count": 10,
     "metadata": {},
     "output_type": "execute_result"
    }
   ],
   "source": [
    "sorted(train_data.indices)"
   ],
   "metadata": {
    "collapsed": false,
    "pycharm": {
     "name": "#%%\n"
    }
   }
  },
  {
   "cell_type": "code",
   "execution_count": 20,
   "outputs": [
    {
     "data": {
      "text/plain": "['D:/data/img_clf/Caltech256\\\\001.ak47\\\\001_0001.jpg',\n 'D:/data/img_clf/Caltech256\\\\001.ak47\\\\001_0002.jpg',\n 'D:/data/img_clf/Caltech256\\\\001.ak47\\\\001_0003.jpg']"
     },
     "execution_count": 20,
     "metadata": {},
     "output_type": "execute_result"
    }
   ],
   "source": [
    "data_imgs = [imgs[0] for imgs in data.samples]\n",
    "data_imgs[:3]"
   ],
   "metadata": {
    "collapsed": false,
    "pycharm": {
     "name": "#%%\n"
    }
   }
  },
  {
   "cell_type": "code",
   "execution_count": 26,
   "outputs": [
    {
     "data": {
      "text/plain": "array(['D:/data/img_clf/Caltech256\\\\001.ak47\\\\001_0001.jpg',\n       'D:/data/img_clf/Caltech256\\\\001.ak47\\\\001_0002.jpg',\n       'D:/data/img_clf/Caltech256\\\\001.ak47\\\\001_0004.jpg', ...,\n       'D:/data/img_clf/Caltech256\\\\257.clutter\\\\257_0825.jpg',\n       'D:/data/img_clf/Caltech256\\\\257.clutter\\\\257_0826.jpg',\n       'D:/data/img_clf/Caltech256\\\\257.clutter\\\\257_0827.jpg'],\n      dtype='<U69')"
     },
     "execution_count": 26,
     "metadata": {},
     "output_type": "execute_result"
    }
   ],
   "source": [
    "train_indices.sort()\n",
    "np.take(data_imgs, sorted(train_data.indices))"
   ],
   "metadata": {
    "collapsed": false,
    "pycharm": {
     "name": "#%%\n"
    }
   }
  },
  {
   "cell_type": "code",
   "execution_count": 25,
   "outputs": [
    {
     "data": {
      "text/plain": "['001.ak47/001_0001.jpg',\n '001.ak47/001_0002.jpg',\n '001.ak47/001_0005.jpg',\n '001.ak47/001_0006.jpg',\n '001.ak47/001_0008.jpg',\n '001.ak47/001_0009.jpg',\n '001.ak47/001_0010.jpg',\n '001.ak47/001_0011.jpg',\n '001.ak47/001_0012.jpg',\n '001.ak47/001_0013.jpg',\n '001.ak47/001_0014.jpg',\n '001.ak47/001_0015.jpg',\n '001.ak47/001_0016.jpg',\n '001.ak47/001_0017.jpg',\n '001.ak47/001_0018.jpg',\n '001.ak47/001_0019.jpg',\n '001.ak47/001_0021.jpg',\n '001.ak47/001_0022.jpg',\n '001.ak47/001_0024.jpg',\n '001.ak47/001_0027.jpg',\n '001.ak47/001_0028.jpg',\n '001.ak47/001_0030.jpg',\n '001.ak47/001_0031.jpg',\n '001.ak47/001_0032.jpg',\n '001.ak47/001_0033.jpg',\n '001.ak47/001_0035.jpg',\n '001.ak47/001_0036.jpg',\n '001.ak47/001_0038.jpg',\n '001.ak47/001_0039.jpg',\n '001.ak47/001_0040.jpg',\n '001.ak47/001_0041.jpg',\n '001.ak47/001_0042.jpg',\n '001.ak47/001_0043.jpg',\n '001.ak47/001_0045.jpg',\n '001.ak47/001_0047.jpg',\n '001.ak47/001_0048.jpg',\n '001.ak47/001_0050.jpg',\n '001.ak47/001_0051.jpg',\n '001.ak47/001_0052.jpg',\n '001.ak47/001_0054.jpg',\n '001.ak47/001_0055.jpg',\n '001.ak47/001_0057.jpg',\n '001.ak47/001_0062.jpg',\n '001.ak47/001_0063.jpg',\n '001.ak47/001_0065.jpg',\n '001.ak47/001_0068.jpg',\n '001.ak47/001_0069.jpg',\n '001.ak47/001_0070.jpg',\n '001.ak47/001_0071.jpg',\n '001.ak47/001_0072.jpg',\n '001.ak47/001_0073.jpg',\n '001.ak47/001_0074.jpg',\n '001.ak47/001_0075.jpg',\n '001.ak47/001_0077.jpg',\n '001.ak47/001_0078.jpg',\n '001.ak47/001_0079.jpg',\n '001.ak47/001_0080.jpg',\n '001.ak47/001_0081.jpg',\n '001.ak47/001_0082.jpg',\n '001.ak47/001_0085.jpg',\n '001.ak47/001_0086.jpg',\n '001.ak47/001_0087.jpg',\n '001.ak47/001_0088.jpg',\n '001.ak47/001_0089.jpg',\n '001.ak47/001_0090.jpg',\n '001.ak47/001_0094.jpg',\n '001.ak47/001_0095.jpg',\n '001.ak47/001_0096.jpg',\n '002.american-flag/002_0001.jpg',\n '002.american-flag/002_0002.jpg',\n '002.american-flag/002_0003.jpg',\n '002.american-flag/002_0004.jpg',\n '002.american-flag/002_0005.jpg',\n '002.american-flag/002_0007.jpg',\n '002.american-flag/002_0010.jpg',\n '002.american-flag/002_0014.jpg',\n '002.american-flag/002_0015.jpg',\n '002.american-flag/002_0016.jpg',\n '002.american-flag/002_0020.jpg',\n '002.american-flag/002_0022.jpg',\n '002.american-flag/002_0023.jpg',\n '002.american-flag/002_0024.jpg',\n '002.american-flag/002_0025.jpg',\n '002.american-flag/002_0026.jpg',\n '002.american-flag/002_0028.jpg',\n '002.american-flag/002_0029.jpg',\n '002.american-flag/002_0031.jpg',\n '002.american-flag/002_0032.jpg',\n '002.american-flag/002_0034.jpg',\n '002.american-flag/002_0035.jpg',\n '002.american-flag/002_0036.jpg',\n '002.american-flag/002_0037.jpg',\n '002.american-flag/002_0038.jpg',\n '002.american-flag/002_0039.jpg',\n '002.american-flag/002_0040.jpg',\n '002.american-flag/002_0041.jpg',\n '002.american-flag/002_0044.jpg',\n '002.american-flag/002_0045.jpg',\n '002.american-flag/002_0046.jpg',\n '002.american-flag/002_0047.jpg',\n '002.american-flag/002_0048.jpg',\n '002.american-flag/002_0050.jpg',\n '002.american-flag/002_0052.jpg',\n '002.american-flag/002_0053.jpg',\n '002.american-flag/002_0055.jpg',\n '002.american-flag/002_0056.jpg',\n '002.american-flag/002_0057.jpg',\n '002.american-flag/002_0058.jpg',\n '002.american-flag/002_0059.jpg',\n '002.american-flag/002_0060.jpg',\n '002.american-flag/002_0061.jpg',\n '002.american-flag/002_0062.jpg',\n '002.american-flag/002_0063.jpg',\n '002.american-flag/002_0064.jpg',\n '002.american-flag/002_0066.jpg',\n '002.american-flag/002_0067.jpg',\n '002.american-flag/002_0068.jpg',\n '002.american-flag/002_0069.jpg',\n '002.american-flag/002_0071.jpg',\n '002.american-flag/002_0072.jpg',\n '002.american-flag/002_0079.jpg',\n '002.american-flag/002_0080.jpg',\n '002.american-flag/002_0081.jpg',\n '002.american-flag/002_0083.jpg',\n '002.american-flag/002_0084.jpg',\n '002.american-flag/002_0086.jpg',\n '002.american-flag/002_0087.jpg',\n '002.american-flag/002_0088.jpg',\n '002.american-flag/002_0089.jpg',\n '002.american-flag/002_0090.jpg',\n '002.american-flag/002_0091.jpg',\n '002.american-flag/002_0092.jpg',\n '002.american-flag/002_0093.jpg',\n '002.american-flag/002_0094.jpg',\n '002.american-flag/002_0096.jpg',\n '003.backpack/003_0001.jpg',\n '003.backpack/003_0003.jpg',\n '003.backpack/003_0004.jpg',\n '003.backpack/003_0006.jpg',\n '003.backpack/003_0007.jpg',\n '003.backpack/003_0008.jpg',\n '003.backpack/003_0011.jpg',\n '003.backpack/003_0013.jpg',\n '003.backpack/003_0014.jpg',\n '003.backpack/003_0015.jpg',\n '003.backpack/003_0016.jpg',\n '003.backpack/003_0017.jpg',\n '003.backpack/003_0018.jpg',\n '003.backpack/003_0019.jpg',\n '003.backpack/003_0020.jpg',\n '003.backpack/003_0024.jpg',\n '003.backpack/003_0025.jpg',\n '003.backpack/003_0026.jpg',\n '003.backpack/003_0027.jpg',\n '003.backpack/003_0028.jpg',\n '003.backpack/003_0030.jpg',\n '003.backpack/003_0031.jpg',\n '003.backpack/003_0034.jpg',\n '003.backpack/003_0036.jpg',\n '003.backpack/003_0037.jpg',\n '003.backpack/003_0038.jpg',\n '003.backpack/003_0040.jpg',\n '003.backpack/003_0042.jpg',\n '003.backpack/003_0043.jpg',\n '003.backpack/003_0044.jpg',\n '003.backpack/003_0045.jpg',\n '003.backpack/003_0046.jpg',\n '003.backpack/003_0047.jpg',\n '003.backpack/003_0049.jpg',\n '003.backpack/003_0050.jpg',\n '003.backpack/003_0052.jpg',\n '003.backpack/003_0053.jpg',\n '003.backpack/003_0055.jpg',\n '003.backpack/003_0057.jpg',\n '003.backpack/003_0058.jpg',\n '003.backpack/003_0059.jpg',\n '003.backpack/003_0060.jpg',\n '003.backpack/003_0061.jpg',\n '003.backpack/003_0062.jpg',\n '003.backpack/003_0064.jpg',\n '003.backpack/003_0065.jpg',\n '003.backpack/003_0066.jpg',\n '003.backpack/003_0068.jpg',\n '003.backpack/003_0069.jpg',\n '003.backpack/003_0070.jpg',\n '003.backpack/003_0071.jpg',\n '003.backpack/003_0072.jpg',\n '003.backpack/003_0073.jpg',\n '003.backpack/003_0074.jpg',\n '003.backpack/003_0075.jpg',\n '003.backpack/003_0076.jpg',\n '003.backpack/003_0077.jpg',\n '003.backpack/003_0078.jpg',\n '003.backpack/003_0079.jpg',\n '003.backpack/003_0080.jpg',\n '003.backpack/003_0081.jpg',\n '003.backpack/003_0082.jpg',\n '003.backpack/003_0083.jpg',\n '003.backpack/003_0085.jpg',\n '003.backpack/003_0086.jpg',\n '003.backpack/003_0087.jpg',\n '003.backpack/003_0088.jpg',\n '003.backpack/003_0089.jpg',\n '003.backpack/003_0090.jpg',\n '003.backpack/003_0091.jpg',\n '003.backpack/003_0092.jpg',\n '003.backpack/003_0093.jpg',\n '003.backpack/003_0094.jpg',\n '003.backpack/003_0095.jpg',\n '003.backpack/003_0097.jpg',\n '003.backpack/003_0098.jpg',\n '003.backpack/003_0099.jpg',\n '003.backpack/003_0100.jpg',\n '003.backpack/003_0101.jpg',\n '003.backpack/003_0102.jpg',\n '003.backpack/003_0103.jpg',\n '003.backpack/003_0104.jpg',\n '003.backpack/003_0105.jpg',\n '003.backpack/003_0106.jpg',\n '003.backpack/003_0107.jpg',\n '003.backpack/003_0108.jpg',\n '003.backpack/003_0109.jpg',\n '003.backpack/003_0110.jpg',\n '003.backpack/003_0111.jpg',\n '003.backpack/003_0112.jpg',\n '003.backpack/003_0113.jpg',\n '003.backpack/003_0114.jpg',\n '003.backpack/003_0115.jpg',\n '003.backpack/003_0116.jpg',\n '003.backpack/003_0117.jpg',\n '003.backpack/003_0119.jpg',\n '003.backpack/003_0120.jpg',\n '003.backpack/003_0121.jpg',\n '003.backpack/003_0123.jpg',\n '003.backpack/003_0125.jpg',\n '003.backpack/003_0126.jpg',\n '003.backpack/003_0127.jpg',\n '003.backpack/003_0128.jpg',\n '003.backpack/003_0129.jpg',\n '003.backpack/003_0130.jpg',\n '003.backpack/003_0131.jpg',\n '003.backpack/003_0132.jpg',\n '003.backpack/003_0133.jpg',\n '003.backpack/003_0134.jpg',\n '003.backpack/003_0135.jpg',\n '003.backpack/003_0136.jpg',\n '003.backpack/003_0137.jpg',\n '003.backpack/003_0139.jpg',\n '003.backpack/003_0140.jpg',\n '003.backpack/003_0141.jpg',\n '003.backpack/003_0142.jpg',\n '003.backpack/003_0144.jpg',\n '003.backpack/003_0145.jpg',\n '003.backpack/003_0147.jpg',\n '003.backpack/003_0148.jpg',\n '003.backpack/003_0151.jpg',\n '004.baseball-bat/004_0001.jpg',\n '004.baseball-bat/004_0003.jpg',\n '004.baseball-bat/004_0004.jpg',\n '004.baseball-bat/004_0005.jpg',\n '004.baseball-bat/004_0007.jpg',\n '004.baseball-bat/004_0008.jpg',\n '004.baseball-bat/004_0009.jpg',\n '004.baseball-bat/004_0011.jpg',\n '004.baseball-bat/004_0012.jpg',\n '004.baseball-bat/004_0013.jpg',\n '004.baseball-bat/004_0014.jpg',\n '004.baseball-bat/004_0015.jpg',\n '004.baseball-bat/004_0016.jpg',\n '004.baseball-bat/004_0017.jpg',\n '004.baseball-bat/004_0018.jpg',\n '004.baseball-bat/004_0019.jpg',\n '004.baseball-bat/004_0020.jpg',\n '004.baseball-bat/004_0021.jpg',\n '004.baseball-bat/004_0022.jpg',\n '004.baseball-bat/004_0023.jpg',\n '004.baseball-bat/004_0024.jpg',\n '004.baseball-bat/004_0025.jpg',\n '004.baseball-bat/004_0026.jpg',\n '004.baseball-bat/004_0028.jpg',\n '004.baseball-bat/004_0030.jpg',\n '004.baseball-bat/004_0031.jpg',\n '004.baseball-bat/004_0032.jpg',\n '004.baseball-bat/004_0035.jpg',\n '004.baseball-bat/004_0036.jpg',\n '004.baseball-bat/004_0037.jpg',\n '004.baseball-bat/004_0038.jpg',\n '004.baseball-bat/004_0039.jpg',\n '004.baseball-bat/004_0040.jpg',\n '004.baseball-bat/004_0042.jpg',\n '004.baseball-bat/004_0043.jpg',\n '004.baseball-bat/004_0044.jpg',\n '004.baseball-bat/004_0045.jpg',\n '004.baseball-bat/004_0046.jpg',\n '004.baseball-bat/004_0047.jpg',\n '004.baseball-bat/004_0049.jpg',\n '004.baseball-bat/004_0050.jpg',\n '004.baseball-bat/004_0051.jpg',\n '004.baseball-bat/004_0052.jpg',\n '004.baseball-bat/004_0053.jpg',\n '004.baseball-bat/004_0055.jpg',\n '004.baseball-bat/004_0056.jpg',\n '004.baseball-bat/004_0057.jpg',\n '004.baseball-bat/004_0058.jpg',\n '004.baseball-bat/004_0060.jpg',\n '004.baseball-bat/004_0061.jpg',\n '004.baseball-bat/004_0064.jpg',\n '004.baseball-bat/004_0065.jpg',\n '004.baseball-bat/004_0067.jpg',\n '004.baseball-bat/004_0070.jpg',\n '004.baseball-bat/004_0073.jpg',\n '004.baseball-bat/004_0074.jpg',\n '004.baseball-bat/004_0075.jpg',\n '004.baseball-bat/004_0076.jpg',\n '004.baseball-bat/004_0078.jpg',\n '004.baseball-bat/004_0079.jpg',\n '004.baseball-bat/004_0080.jpg',\n '004.baseball-bat/004_0081.jpg',\n '004.baseball-bat/004_0082.jpg',\n '004.baseball-bat/004_0083.jpg',\n '004.baseball-bat/004_0084.jpg',\n '004.baseball-bat/004_0085.jpg',\n '004.baseball-bat/004_0088.jpg',\n '004.baseball-bat/004_0089.jpg',\n '004.baseball-bat/004_0090.jpg',\n '004.baseball-bat/004_0091.jpg',\n '004.baseball-bat/004_0092.jpg',\n '004.baseball-bat/004_0095.jpg',\n '004.baseball-bat/004_0096.jpg',\n '004.baseball-bat/004_0099.jpg',\n '004.baseball-bat/004_0101.jpg',\n '004.baseball-bat/004_0102.jpg',\n '004.baseball-bat/004_0103.jpg',\n '004.baseball-bat/004_0104.jpg',\n '004.baseball-bat/004_0105.jpg',\n '004.baseball-bat/004_0106.jpg',\n '004.baseball-bat/004_0107.jpg',\n '004.baseball-bat/004_0109.jpg',\n '004.baseball-bat/004_0110.jpg',\n '004.baseball-bat/004_0111.jpg',\n '004.baseball-bat/004_0112.jpg',\n '004.baseball-bat/004_0113.jpg',\n '004.baseball-bat/004_0114.jpg',\n '004.baseball-bat/004_0115.jpg',\n '004.baseball-bat/004_0116.jpg',\n '004.baseball-bat/004_0117.jpg',\n '004.baseball-bat/004_0119.jpg',\n '004.baseball-bat/004_0120.jpg',\n '004.baseball-bat/004_0121.jpg',\n '004.baseball-bat/004_0122.jpg',\n '004.baseball-bat/004_0124.jpg',\n '004.baseball-bat/004_0125.jpg',\n '004.baseball-bat/004_0126.jpg',\n '005.baseball-glove/005_0002.jpg',\n '005.baseball-glove/005_0003.jpg',\n '005.baseball-glove/005_0004.jpg',\n '005.baseball-glove/005_0005.jpg',\n '005.baseball-glove/005_0006.jpg',\n '005.baseball-glove/005_0008.jpg',\n '005.baseball-glove/005_0009.jpg',\n '005.baseball-glove/005_0010.jpg',\n '005.baseball-glove/005_0011.jpg',\n '005.baseball-glove/005_0013.jpg',\n '005.baseball-glove/005_0015.jpg',\n '005.baseball-glove/005_0016.jpg',\n '005.baseball-glove/005_0017.jpg',\n '005.baseball-glove/005_0020.jpg',\n '005.baseball-glove/005_0023.jpg',\n '005.baseball-glove/005_0024.jpg',\n '005.baseball-glove/005_0025.jpg',\n '005.baseball-glove/005_0026.jpg',\n '005.baseball-glove/005_0027.jpg',\n '005.baseball-glove/005_0028.jpg',\n '005.baseball-glove/005_0029.jpg',\n '005.baseball-glove/005_0030.jpg',\n '005.baseball-glove/005_0031.jpg',\n '005.baseball-glove/005_0032.jpg',\n '005.baseball-glove/005_0034.jpg',\n '005.baseball-glove/005_0035.jpg',\n '005.baseball-glove/005_0037.jpg',\n '005.baseball-glove/005_0038.jpg',\n '005.baseball-glove/005_0040.jpg',\n '005.baseball-glove/005_0041.jpg',\n '005.baseball-glove/005_0042.jpg',\n '005.baseball-glove/005_0044.jpg',\n '005.baseball-glove/005_0045.jpg',\n '005.baseball-glove/005_0046.jpg',\n '005.baseball-glove/005_0047.jpg',\n '005.baseball-glove/005_0048.jpg',\n '005.baseball-glove/005_0049.jpg',\n '005.baseball-glove/005_0050.jpg',\n '005.baseball-glove/005_0052.jpg',\n '005.baseball-glove/005_0053.jpg',\n '005.baseball-glove/005_0054.jpg',\n '005.baseball-glove/005_0056.jpg',\n '005.baseball-glove/005_0057.jpg',\n '005.baseball-glove/005_0059.jpg',\n '005.baseball-glove/005_0060.jpg',\n '005.baseball-glove/005_0061.jpg',\n '005.baseball-glove/005_0062.jpg',\n '005.baseball-glove/005_0063.jpg',\n '005.baseball-glove/005_0066.jpg',\n '005.baseball-glove/005_0067.jpg',\n '005.baseball-glove/005_0068.jpg',\n '005.baseball-glove/005_0069.jpg',\n '005.baseball-glove/005_0070.jpg',\n '005.baseball-glove/005_0071.jpg',\n '005.baseball-glove/005_0072.jpg',\n '005.baseball-glove/005_0074.jpg',\n '005.baseball-glove/005_0076.jpg',\n '005.baseball-glove/005_0077.jpg',\n '005.baseball-glove/005_0078.jpg',\n '005.baseball-glove/005_0079.jpg',\n '005.baseball-glove/005_0081.jpg',\n '005.baseball-glove/005_0082.jpg',\n '005.baseball-glove/005_0083.jpg',\n '005.baseball-glove/005_0084.jpg',\n '005.baseball-glove/005_0085.jpg',\n '005.baseball-glove/005_0087.jpg',\n '005.baseball-glove/005_0091.jpg',\n '005.baseball-glove/005_0092.jpg',\n '005.baseball-glove/005_0093.jpg',\n '005.baseball-glove/005_0094.jpg',\n '005.baseball-glove/005_0096.jpg',\n '005.baseball-glove/005_0097.jpg',\n '005.baseball-glove/005_0098.jpg',\n '005.baseball-glove/005_0099.jpg',\n '005.baseball-glove/005_0100.jpg',\n '005.baseball-glove/005_0101.jpg',\n '005.baseball-glove/005_0102.jpg',\n '005.baseball-glove/005_0103.jpg',\n '005.baseball-glove/005_0104.jpg',\n '005.baseball-glove/005_0105.jpg',\n '005.baseball-glove/005_0107.jpg',\n '005.baseball-glove/005_0108.jpg',\n '005.baseball-glove/005_0109.jpg',\n '005.baseball-glove/005_0111.jpg',\n '005.baseball-glove/005_0112.jpg',\n '005.baseball-glove/005_0113.jpg',\n '005.baseball-glove/005_0114.jpg',\n '005.baseball-glove/005_0115.jpg',\n '005.baseball-glove/005_0116.jpg',\n '005.baseball-glove/005_0117.jpg',\n '005.baseball-glove/005_0118.jpg',\n '005.baseball-glove/005_0119.jpg',\n '005.baseball-glove/005_0120.jpg',\n '005.baseball-glove/005_0121.jpg',\n '005.baseball-glove/005_0122.jpg',\n '005.baseball-glove/005_0125.jpg',\n '005.baseball-glove/005_0126.jpg',\n '005.baseball-glove/005_0127.jpg',\n '005.baseball-glove/005_0128.jpg',\n '005.baseball-glove/005_0129.jpg',\n '005.baseball-glove/005_0130.jpg',\n '005.baseball-glove/005_0131.jpg',\n '005.baseball-glove/005_0132.jpg',\n '005.baseball-glove/005_0133.jpg',\n '005.baseball-glove/005_0134.jpg',\n '005.baseball-glove/005_0135.jpg',\n '005.baseball-glove/005_0136.jpg',\n '005.baseball-glove/005_0137.jpg',\n '005.baseball-glove/005_0138.jpg',\n '005.baseball-glove/005_0139.jpg',\n '005.baseball-glove/005_0140.jpg',\n '005.baseball-glove/005_0141.jpg',\n '005.baseball-glove/005_0142.jpg',\n '005.baseball-glove/005_0143.jpg',\n '005.baseball-glove/005_0144.jpg',\n '005.baseball-glove/005_0146.jpg',\n '005.baseball-glove/005_0147.jpg',\n '005.baseball-glove/005_0148.jpg',\n '006.basketball-hoop/006_0002.jpg',\n '006.basketball-hoop/006_0004.jpg',\n '006.basketball-hoop/006_0007.jpg',\n '006.basketball-hoop/006_0010.jpg',\n '006.basketball-hoop/006_0011.jpg',\n '006.basketball-hoop/006_0016.jpg',\n '006.basketball-hoop/006_0017.jpg',\n '006.basketball-hoop/006_0018.jpg',\n '006.basketball-hoop/006_0019.jpg',\n '006.basketball-hoop/006_0020.jpg',\n '006.basketball-hoop/006_0021.jpg',\n '006.basketball-hoop/006_0022.jpg',\n '006.basketball-hoop/006_0023.jpg',\n '006.basketball-hoop/006_0024.jpg',\n '006.basketball-hoop/006_0025.jpg',\n '006.basketball-hoop/006_0026.jpg',\n '006.basketball-hoop/006_0030.jpg',\n '006.basketball-hoop/006_0031.jpg',\n '006.basketball-hoop/006_0032.jpg',\n '006.basketball-hoop/006_0034.jpg',\n '006.basketball-hoop/006_0035.jpg',\n '006.basketball-hoop/006_0036.jpg',\n '006.basketball-hoop/006_0037.jpg',\n '006.basketball-hoop/006_0038.jpg',\n '006.basketball-hoop/006_0040.jpg',\n '006.basketball-hoop/006_0041.jpg',\n '006.basketball-hoop/006_0042.jpg',\n '006.basketball-hoop/006_0043.jpg',\n '006.basketball-hoop/006_0044.jpg',\n '006.basketball-hoop/006_0045.jpg',\n '006.basketball-hoop/006_0046.jpg',\n '006.basketball-hoop/006_0049.jpg',\n '006.basketball-hoop/006_0050.jpg',\n '006.basketball-hoop/006_0051.jpg',\n '006.basketball-hoop/006_0053.jpg',\n '006.basketball-hoop/006_0056.jpg',\n '006.basketball-hoop/006_0058.jpg',\n '006.basketball-hoop/006_0061.jpg',\n '006.basketball-hoop/006_0062.jpg',\n '006.basketball-hoop/006_0063.jpg',\n '006.basketball-hoop/006_0064.jpg',\n '006.basketball-hoop/006_0065.jpg',\n '006.basketball-hoop/006_0066.jpg',\n '006.basketball-hoop/006_0067.jpg',\n '006.basketball-hoop/006_0069.jpg',\n '006.basketball-hoop/006_0070.jpg',\n '006.basketball-hoop/006_0073.jpg',\n '006.basketball-hoop/006_0074.jpg',\n '006.basketball-hoop/006_0075.jpg',\n '006.basketball-hoop/006_0076.jpg',\n '006.basketball-hoop/006_0077.jpg',\n '006.basketball-hoop/006_0078.jpg',\n '006.basketball-hoop/006_0079.jpg',\n '006.basketball-hoop/006_0081.jpg',\n '006.basketball-hoop/006_0082.jpg',\n '006.basketball-hoop/006_0083.jpg',\n '006.basketball-hoop/006_0086.jpg',\n '006.basketball-hoop/006_0087.jpg',\n '006.basketball-hoop/006_0088.jpg',\n '006.basketball-hoop/006_0090.jpg',\n '007.bat/007_0002.jpg',\n '007.bat/007_0003.jpg',\n '007.bat/007_0004.jpg',\n '007.bat/007_0005.jpg',\n '007.bat/007_0006.jpg',\n '007.bat/007_0007.jpg',\n '007.bat/007_0008.jpg',\n '007.bat/007_0009.jpg',\n '007.bat/007_0010.jpg',\n '007.bat/007_0012.jpg',\n '007.bat/007_0015.jpg',\n '007.bat/007_0019.jpg',\n '007.bat/007_0020.jpg',\n '007.bat/007_0021.jpg',\n '007.bat/007_0022.jpg',\n '007.bat/007_0023.jpg',\n '007.bat/007_0024.jpg',\n '007.bat/007_0026.jpg',\n '007.bat/007_0027.jpg',\n '007.bat/007_0028.jpg',\n '007.bat/007_0029.jpg',\n '007.bat/007_0030.jpg',\n '007.bat/007_0031.jpg',\n '007.bat/007_0034.jpg',\n '007.bat/007_0036.jpg',\n '007.bat/007_0037.jpg',\n '007.bat/007_0038.jpg',\n '007.bat/007_0039.jpg',\n '007.bat/007_0041.jpg',\n '007.bat/007_0042.jpg',\n '007.bat/007_0043.jpg',\n '007.bat/007_0047.jpg',\n '007.bat/007_0048.jpg',\n '007.bat/007_0049.jpg',\n '007.bat/007_0051.jpg',\n '007.bat/007_0052.jpg',\n '007.bat/007_0054.jpg',\n '007.bat/007_0055.jpg',\n '007.bat/007_0056.jpg',\n '007.bat/007_0058.jpg',\n '007.bat/007_0059.jpg',\n '007.bat/007_0062.jpg',\n '007.bat/007_0063.jpg',\n '007.bat/007_0064.jpg',\n '007.bat/007_0065.jpg',\n '007.bat/007_0066.jpg',\n '007.bat/007_0067.jpg',\n '007.bat/007_0068.jpg',\n '007.bat/007_0069.jpg',\n '007.bat/007_0070.jpg',\n '007.bat/007_0071.jpg',\n '007.bat/007_0072.jpg',\n '007.bat/007_0073.jpg',\n '007.bat/007_0074.jpg',\n '007.bat/007_0075.jpg',\n '007.bat/007_0076.jpg',\n '007.bat/007_0077.jpg',\n '007.bat/007_0078.jpg',\n '007.bat/007_0079.jpg',\n '007.bat/007_0080.jpg',\n '007.bat/007_0081.jpg',\n '007.bat/007_0083.jpg',\n '007.bat/007_0085.jpg',\n '007.bat/007_0088.jpg',\n '007.bat/007_0089.jpg',\n '007.bat/007_0090.jpg',\n '007.bat/007_0094.jpg',\n '007.bat/007_0095.jpg',\n '007.bat/007_0096.jpg',\n '007.bat/007_0097.jpg',\n '007.bat/007_0098.jpg',\n '007.bat/007_0099.jpg',\n '007.bat/007_0100.jpg',\n '007.bat/007_0102.jpg',\n '007.bat/007_0104.jpg',\n '007.bat/007_0106.jpg',\n '008.bathtub/008_0001.jpg',\n '008.bathtub/008_0002.jpg',\n '008.bathtub/008_0004.jpg',\n '008.bathtub/008_0005.jpg',\n '008.bathtub/008_0006.jpg',\n '008.bathtub/008_0007.jpg',\n '008.bathtub/008_0008.jpg',\n '008.bathtub/008_0009.jpg',\n '008.bathtub/008_0010.jpg',\n '008.bathtub/008_0011.jpg',\n '008.bathtub/008_0012.jpg',\n '008.bathtub/008_0013.jpg',\n '008.bathtub/008_0014.jpg',\n '008.bathtub/008_0015.jpg',\n '008.bathtub/008_0017.jpg',\n '008.bathtub/008_0018.jpg',\n '008.bathtub/008_0019.jpg',\n '008.bathtub/008_0020.jpg',\n '008.bathtub/008_0021.jpg',\n '008.bathtub/008_0023.jpg',\n '008.bathtub/008_0024.jpg',\n '008.bathtub/008_0025.jpg',\n '008.bathtub/008_0027.jpg',\n '008.bathtub/008_0028.jpg',\n '008.bathtub/008_0029.jpg',\n '008.bathtub/008_0030.jpg',\n '008.bathtub/008_0031.jpg',\n '008.bathtub/008_0032.jpg',\n '008.bathtub/008_0033.jpg',\n '008.bathtub/008_0034.jpg',\n '008.bathtub/008_0035.jpg',\n '008.bathtub/008_0037.jpg',\n '008.bathtub/008_0038.jpg',\n '008.bathtub/008_0040.jpg',\n '008.bathtub/008_0041.jpg',\n '008.bathtub/008_0042.jpg',\n '008.bathtub/008_0044.jpg',\n '008.bathtub/008_0045.jpg',\n '008.bathtub/008_0046.jpg',\n '008.bathtub/008_0047.jpg',\n '008.bathtub/008_0048.jpg',\n '008.bathtub/008_0049.jpg',\n '008.bathtub/008_0050.jpg',\n '008.bathtub/008_0051.jpg',\n '008.bathtub/008_0052.jpg',\n '008.bathtub/008_0053.jpg',\n '008.bathtub/008_0054.jpg',\n '008.bathtub/008_0055.jpg',\n '008.bathtub/008_0056.jpg',\n '008.bathtub/008_0057.jpg',\n '008.bathtub/008_0058.jpg',\n '008.bathtub/008_0059.jpg',\n '008.bathtub/008_0060.jpg',\n '008.bathtub/008_0063.jpg',\n '008.bathtub/008_0064.jpg',\n '008.bathtub/008_0065.jpg',\n '008.bathtub/008_0066.jpg',\n '008.bathtub/008_0068.jpg',\n '008.bathtub/008_0070.jpg',\n '008.bathtub/008_0071.jpg',\n '008.bathtub/008_0073.jpg',\n '008.bathtub/008_0074.jpg',\n '008.bathtub/008_0076.jpg',\n '008.bathtub/008_0078.jpg',\n '008.bathtub/008_0079.jpg',\n '008.bathtub/008_0080.jpg',\n '008.bathtub/008_0081.jpg',\n '008.bathtub/008_0082.jpg',\n '008.bathtub/008_0083.jpg',\n '008.bathtub/008_0084.jpg',\n '008.bathtub/008_0085.jpg',\n '008.bathtub/008_0088.jpg',\n '008.bathtub/008_0089.jpg',\n '008.bathtub/008_0090.jpg',\n '008.bathtub/008_0091.jpg',\n '008.bathtub/008_0092.jpg',\n '008.bathtub/008_0093.jpg',\n '008.bathtub/008_0094.jpg',\n '008.bathtub/008_0095.jpg',\n '008.bathtub/008_0096.jpg',\n '008.bathtub/008_0097.jpg',\n '008.bathtub/008_0098.jpg',\n '008.bathtub/008_0099.jpg',\n '008.bathtub/008_0100.jpg',\n '008.bathtub/008_0101.jpg',\n '008.bathtub/008_0102.jpg',\n '008.bathtub/008_0105.jpg',\n '008.bathtub/008_0106.jpg',\n '008.bathtub/008_0107.jpg',\n '008.bathtub/008_0108.jpg',\n '008.bathtub/008_0109.jpg',\n '008.bathtub/008_0110.jpg',\n '008.bathtub/008_0111.jpg',\n '008.bathtub/008_0112.jpg',\n '008.bathtub/008_0113.jpg',\n '008.bathtub/008_0114.jpg',\n '008.bathtub/008_0115.jpg',\n '008.bathtub/008_0117.jpg',\n '008.bathtub/008_0118.jpg',\n '008.bathtub/008_0119.jpg',\n '008.bathtub/008_0120.jpg',\n '008.bathtub/008_0121.jpg',\n '008.bathtub/008_0122.jpg',\n '008.bathtub/008_0123.jpg',\n '008.bathtub/008_0124.jpg',\n '008.bathtub/008_0125.jpg',\n '008.bathtub/008_0126.jpg',\n '008.bathtub/008_0127.jpg',\n '008.bathtub/008_0129.jpg',\n '008.bathtub/008_0130.jpg',\n '008.bathtub/008_0131.jpg',\n '008.bathtub/008_0133.jpg',\n '008.bathtub/008_0134.jpg',\n '008.bathtub/008_0135.jpg',\n '008.bathtub/008_0136.jpg',\n '008.bathtub/008_0137.jpg',\n '008.bathtub/008_0138.jpg',\n '008.bathtub/008_0139.jpg',\n '008.bathtub/008_0140.jpg',\n '008.bathtub/008_0141.jpg',\n '008.bathtub/008_0142.jpg',\n '008.bathtub/008_0143.jpg',\n '008.bathtub/008_0144.jpg',\n '008.bathtub/008_0145.jpg',\n '008.bathtub/008_0146.jpg',\n '008.bathtub/008_0147.jpg',\n '008.bathtub/008_0148.jpg',\n '008.bathtub/008_0149.jpg',\n '008.bathtub/008_0150.jpg',\n '008.bathtub/008_0152.jpg',\n '008.bathtub/008_0153.jpg',\n '008.bathtub/008_0154.jpg',\n '008.bathtub/008_0155.jpg',\n '008.bathtub/008_0156.jpg',\n '008.bathtub/008_0157.jpg',\n '008.bathtub/008_0158.jpg',\n '008.bathtub/008_0159.jpg',\n '008.bathtub/008_0160.jpg',\n '008.bathtub/008_0162.jpg',\n '008.bathtub/008_0163.jpg',\n '008.bathtub/008_0165.jpg',\n '008.bathtub/008_0166.jpg',\n '008.bathtub/008_0167.jpg',\n '008.bathtub/008_0168.jpg',\n '008.bathtub/008_0170.jpg',\n '008.bathtub/008_0171.jpg',\n '008.bathtub/008_0172.jpg',\n '008.bathtub/008_0173.jpg',\n '008.bathtub/008_0174.jpg',\n '008.bathtub/008_0175.jpg',\n '008.bathtub/008_0176.jpg',\n '008.bathtub/008_0177.jpg',\n '008.bathtub/008_0178.jpg',\n '008.bathtub/008_0179.jpg',\n '008.bathtub/008_0180.jpg',\n '008.bathtub/008_0181.jpg',\n '008.bathtub/008_0182.jpg',\n '008.bathtub/008_0183.jpg',\n '008.bathtub/008_0184.jpg',\n '008.bathtub/008_0185.jpg',\n '008.bathtub/008_0186.jpg',\n '008.bathtub/008_0187.jpg',\n '008.bathtub/008_0188.jpg',\n '008.bathtub/008_0189.jpg',\n '008.bathtub/008_0190.jpg',\n '008.bathtub/008_0191.jpg',\n '008.bathtub/008_0192.jpg',\n '008.bathtub/008_0193.jpg',\n '008.bathtub/008_0194.jpg',\n '008.bathtub/008_0195.jpg',\n '008.bathtub/008_0196.jpg',\n '008.bathtub/008_0197.jpg',\n '008.bathtub/008_0198.jpg',\n '008.bathtub/008_0199.jpg',\n '008.bathtub/008_0200.jpg',\n '008.bathtub/008_0201.jpg',\n '008.bathtub/008_0202.jpg',\n '008.bathtub/008_0203.jpg',\n '008.bathtub/008_0204.jpg',\n '008.bathtub/008_0205.jpg',\n '008.bathtub/008_0206.jpg',\n '008.bathtub/008_0207.jpg',\n '008.bathtub/008_0208.jpg',\n '008.bathtub/008_0209.jpg',\n '008.bathtub/008_0211.jpg',\n '008.bathtub/008_0212.jpg',\n '008.bathtub/008_0213.jpg',\n '008.bathtub/008_0214.jpg',\n '008.bathtub/008_0215.jpg',\n '008.bathtub/008_0217.jpg',\n '008.bathtub/008_0218.jpg',\n '008.bathtub/008_0219.jpg',\n '008.bathtub/008_0220.jpg',\n '008.bathtub/008_0221.jpg',\n '008.bathtub/008_0224.jpg',\n '008.bathtub/008_0225.jpg',\n '008.bathtub/008_0226.jpg',\n '008.bathtub/008_0227.jpg',\n '008.bathtub/008_0229.jpg',\n '008.bathtub/008_0230.jpg',\n '008.bathtub/008_0231.jpg',\n '008.bathtub/008_0232.jpg',\n '009.bear/009_0001.jpg',\n '009.bear/009_0002.jpg',\n '009.bear/009_0003.jpg',\n '009.bear/009_0005.jpg',\n '009.bear/009_0007.jpg',\n '009.bear/009_0008.jpg',\n '009.bear/009_0016.jpg',\n '009.bear/009_0018.jpg',\n '009.bear/009_0020.jpg',\n '009.bear/009_0021.jpg',\n '009.bear/009_0022.jpg',\n '009.bear/009_0023.jpg',\n '009.bear/009_0024.jpg',\n '009.bear/009_0025.jpg',\n '009.bear/009_0026.jpg',\n '009.bear/009_0027.jpg',\n '009.bear/009_0029.jpg',\n '009.bear/009_0030.jpg',\n '009.bear/009_0032.jpg',\n '009.bear/009_0034.jpg',\n '009.bear/009_0035.jpg',\n '009.bear/009_0036.jpg',\n '009.bear/009_0038.jpg',\n '009.bear/009_0039.jpg',\n '009.bear/009_0040.jpg',\n '009.bear/009_0041.jpg',\n '009.bear/009_0042.jpg',\n '009.bear/009_0043.jpg',\n '009.bear/009_0044.jpg',\n '009.bear/009_0045.jpg',\n '009.bear/009_0047.jpg',\n '009.bear/009_0048.jpg',\n '009.bear/009_0050.jpg',\n '009.bear/009_0051.jpg',\n '009.bear/009_0052.jpg',\n '009.bear/009_0053.jpg',\n '009.bear/009_0054.jpg',\n '009.bear/009_0056.jpg',\n '009.bear/009_0057.jpg',\n '009.bear/009_0058.jpg',\n '009.bear/009_0060.jpg',\n '009.bear/009_0062.jpg',\n '009.bear/009_0063.jpg',\n '009.bear/009_0065.jpg',\n '009.bear/009_0066.jpg',\n '009.bear/009_0067.jpg',\n '009.bear/009_0069.jpg',\n '009.bear/009_0070.jpg',\n '009.bear/009_0072.jpg',\n '009.bear/009_0073.jpg',\n '009.bear/009_0074.jpg',\n '009.bear/009_0075.jpg',\n '009.bear/009_0077.jpg',\n '009.bear/009_0078.jpg',\n '009.bear/009_0079.jpg',\n '009.bear/009_0080.jpg',\n '009.bear/009_0081.jpg',\n '009.bear/009_0082.jpg',\n '009.bear/009_0083.jpg',\n '009.bear/009_0086.jpg',\n '009.bear/009_0087.jpg',\n '009.bear/009_0088.jpg',\n '009.bear/009_0089.jpg',\n '009.bear/009_0090.jpg',\n '009.bear/009_0092.jpg',\n '009.bear/009_0093.jpg',\n '009.bear/009_0094.jpg',\n '009.bear/009_0095.jpg',\n '009.bear/009_0096.jpg',\n '009.bear/009_0099.jpg',\n '009.bear/009_0101.jpg',\n '009.bear/009_0102.jpg',\n '010.beer-mug/010_0001.jpg',\n '010.beer-mug/010_0002.jpg',\n '010.beer-mug/010_0003.jpg',\n '010.beer-mug/010_0004.jpg',\n '010.beer-mug/010_0006.jpg',\n '010.beer-mug/010_0008.jpg',\n '010.beer-mug/010_0009.jpg',\n '010.beer-mug/010_0010.jpg',\n '010.beer-mug/010_0011.jpg',\n '010.beer-mug/010_0013.jpg',\n '010.beer-mug/010_0015.jpg',\n '010.beer-mug/010_0016.jpg',\n '010.beer-mug/010_0018.jpg',\n '010.beer-mug/010_0019.jpg',\n '010.beer-mug/010_0020.jpg',\n '010.beer-mug/010_0022.jpg',\n '010.beer-mug/010_0024.jpg',\n '010.beer-mug/010_0029.jpg',\n '010.beer-mug/010_0030.jpg',\n '010.beer-mug/010_0031.jpg',\n '010.beer-mug/010_0032.jpg',\n '010.beer-mug/010_0033.jpg',\n '010.beer-mug/010_0034.jpg',\n '010.beer-mug/010_0036.jpg',\n '010.beer-mug/010_0041.jpg',\n '010.beer-mug/010_0042.jpg',\n '010.beer-mug/010_0044.jpg',\n '010.beer-mug/010_0046.jpg',\n '010.beer-mug/010_0047.jpg',\n '010.beer-mug/010_0050.jpg',\n '010.beer-mug/010_0051.jpg',\n '010.beer-mug/010_0052.jpg',\n '010.beer-mug/010_0053.jpg',\n '010.beer-mug/010_0054.jpg',\n '010.beer-mug/010_0055.jpg',\n '010.beer-mug/010_0057.jpg',\n '010.beer-mug/010_0058.jpg',\n '010.beer-mug/010_0059.jpg',\n '010.beer-mug/010_0060.jpg',\n '010.beer-mug/010_0061.jpg',\n '010.beer-mug/010_0063.jpg',\n '010.beer-mug/010_0064.jpg',\n '010.beer-mug/010_0065.jpg',\n '010.beer-mug/010_0066.jpg',\n '010.beer-mug/010_0068.jpg',\n '010.beer-mug/010_0069.jpg',\n '010.beer-mug/010_0070.jpg',\n '010.beer-mug/010_0071.jpg',\n '010.beer-mug/010_0072.jpg',\n '010.beer-mug/010_0073.jpg',\n '010.beer-mug/010_0077.jpg',\n '010.beer-mug/010_0079.jpg',\n '010.beer-mug/010_0080.jpg',\n '010.beer-mug/010_0081.jpg',\n '010.beer-mug/010_0082.jpg',\n '010.beer-mug/010_0083.jpg',\n '010.beer-mug/010_0084.jpg',\n '010.beer-mug/010_0086.jpg',\n '010.beer-mug/010_0087.jpg',\n '010.beer-mug/010_0089.jpg',\n '010.beer-mug/010_0090.jpg',\n '010.beer-mug/010_0091.jpg',\n '010.beer-mug/010_0092.jpg',\n '010.beer-mug/010_0094.jpg',\n '011.billiards/011_0002.jpg',\n '011.billiards/011_0003.jpg',\n '011.billiards/011_0004.jpg',\n '011.billiards/011_0005.jpg',\n '011.billiards/011_0006.jpg',\n '011.billiards/011_0007.jpg',\n '011.billiards/011_0008.jpg',\n '011.billiards/011_0009.jpg',\n '011.billiards/011_0010.jpg',\n '011.billiards/011_0011.jpg',\n '011.billiards/011_0012.jpg',\n '011.billiards/011_0013.jpg',\n '011.billiards/011_0014.jpg',\n '011.billiards/011_0015.jpg',\n '011.billiards/011_0016.jpg',\n '011.billiards/011_0017.jpg',\n '011.billiards/011_0019.jpg',\n '011.billiards/011_0020.jpg',\n '011.billiards/011_0022.jpg',\n '011.billiards/011_0023.jpg',\n '011.billiards/011_0024.jpg',\n '011.billiards/011_0025.jpg',\n '011.billiards/011_0026.jpg',\n '011.billiards/011_0028.jpg',\n '011.billiards/011_0030.jpg',\n '011.billiards/011_0031.jpg',\n '011.billiards/011_0032.jpg',\n '011.billiards/011_0033.jpg',\n '011.billiards/011_0034.jpg',\n '011.billiards/011_0035.jpg',\n '011.billiards/011_0036.jpg',\n '011.billiards/011_0037.jpg',\n '011.billiards/011_0038.jpg',\n '011.billiards/011_0040.jpg',\n '011.billiards/011_0041.jpg',\n '011.billiards/011_0042.jpg',\n '011.billiards/011_0043.jpg',\n '011.billiards/011_0044.jpg',\n '011.billiards/011_0045.jpg',\n '011.billiards/011_0046.jpg',\n '011.billiards/011_0047.jpg',\n '011.billiards/011_0048.jpg',\n '011.billiards/011_0049.jpg',\n '011.billiards/011_0050.jpg',\n '011.billiards/011_0051.jpg',\n '011.billiards/011_0052.jpg',\n '011.billiards/011_0053.jpg',\n '011.billiards/011_0054.jpg',\n '011.billiards/011_0055.jpg',\n '011.billiards/011_0057.jpg',\n '011.billiards/011_0058.jpg',\n '011.billiards/011_0059.jpg',\n '011.billiards/011_0060.jpg',\n '011.billiards/011_0061.jpg',\n '011.billiards/011_0062.jpg',\n ...]"
     },
     "execution_count": 25,
     "metadata": {},
     "output_type": "execute_result"
    }
   ],
   "source": [
    "train_img_names"
   ],
   "metadata": {
    "collapsed": false,
    "pycharm": {
     "name": "#%%\n"
    }
   }
  },
  {
   "cell_type": "code",
   "execution_count": 16,
   "outputs": [],
   "source": [
    "import numpy as np"
   ],
   "metadata": {
    "collapsed": false,
    "pycharm": {
     "name": "#%%\n"
    }
   }
  },
  {
   "cell_type": "code",
   "execution_count": 9,
   "outputs": [
    {
     "data": {
      "text/plain": "[0,\n 1,\n 4,\n 5,\n 7,\n 8,\n 9,\n 10,\n 11,\n 12,\n 13,\n 14,\n 15,\n 16,\n 17,\n 18,\n 20,\n 21,\n 23,\n 26,\n 27,\n 29,\n 30,\n 31,\n 32,\n 34,\n 35,\n 37,\n 38,\n 39,\n 40,\n 41,\n 42,\n 44,\n 46,\n 47,\n 49,\n 50,\n 51,\n 53,\n 54,\n 56,\n 61,\n 62,\n 64,\n 67,\n 68,\n 69,\n 70,\n 71,\n 72,\n 73,\n 74,\n 76,\n 77,\n 78,\n 79,\n 80,\n 81,\n 84,\n 85,\n 86,\n 87,\n 88,\n 89,\n 93,\n 94,\n 95,\n 98,\n 99,\n 100,\n 101,\n 102,\n 104,\n 107,\n 111,\n 112,\n 113,\n 117,\n 119,\n 120,\n 121,\n 122,\n 123,\n 125,\n 126,\n 128,\n 129,\n 131,\n 132,\n 133,\n 134,\n 135,\n 136,\n 137,\n 138,\n 141,\n 142,\n 143,\n 144,\n 145,\n 147,\n 149,\n 150,\n 152,\n 153,\n 154,\n 155,\n 156,\n 157,\n 158,\n 159,\n 160,\n 161,\n 163,\n 164,\n 165,\n 166,\n 168,\n 169,\n 176,\n 177,\n 178,\n 180,\n 181,\n 183,\n 184,\n 185,\n 186,\n 187,\n 188,\n 189,\n 190,\n 191,\n 193,\n 195,\n 197,\n 198,\n 200,\n 201,\n 202,\n 205,\n 207,\n 208,\n 209,\n 210,\n 211,\n 212,\n 213,\n 214,\n 218,\n 219,\n 220,\n 221,\n 222,\n 224,\n 225,\n 228,\n 230,\n 231,\n 232,\n 234,\n 236,\n 237,\n 238,\n 239,\n 240,\n 241,\n 243,\n 244,\n 246,\n 247,\n 249,\n 251,\n 252,\n 253,\n 254,\n 255,\n 256,\n 258,\n 259,\n 260,\n 262,\n 263,\n 264,\n 265,\n 266,\n 267,\n 268,\n 269,\n 270,\n 271,\n 272,\n 273,\n 274,\n 275,\n 276,\n 277,\n 279,\n 280,\n 281,\n 282,\n 283,\n 284,\n 285,\n 286,\n 287,\n 288,\n 289,\n 291,\n 292,\n 293,\n 294,\n 295,\n 296,\n 297,\n 298,\n 299,\n 300,\n 301,\n 302,\n 303,\n 304,\n 305,\n 306,\n 307,\n 308,\n 309,\n 310,\n 311,\n 313,\n 314,\n 315,\n 317,\n 319,\n 320,\n 321,\n 322,\n 323,\n 324,\n 325,\n 326,\n 327,\n 328,\n 329,\n 330,\n 331,\n 333,\n 334,\n 335,\n 336,\n 338,\n 339,\n 341,\n 342,\n 345,\n 346,\n 348,\n 349,\n 350,\n 352,\n 353,\n 354,\n 356,\n 357,\n 358,\n 359,\n 360,\n 361,\n 362,\n 363,\n 364,\n 365,\n 366,\n 367,\n 368,\n 369,\n 370,\n 371,\n 373,\n 375,\n 376,\n 377,\n 380,\n 381,\n 382,\n 383,\n 384,\n 385,\n 387,\n 388,\n 389,\n 390,\n 391,\n 392,\n 394,\n 395,\n 396,\n 397,\n 398,\n 400,\n 401,\n 402,\n 403,\n 405,\n 406,\n 409,\n 410,\n 412,\n 415,\n 418,\n 419,\n 420,\n 421,\n 423,\n 424,\n 425,\n 426,\n 427,\n 428,\n 429,\n 430,\n 433,\n 434,\n 435,\n 436,\n 437,\n 440,\n 441,\n 444,\n 446,\n 447,\n 448,\n 449,\n 450,\n 451,\n 452,\n 454,\n 455,\n 456,\n 457,\n 458,\n 459,\n 460,\n 461,\n 462,\n 464,\n 465,\n 466,\n 467,\n 469,\n 470,\n 471,\n 474,\n 475,\n 476,\n 477,\n 478,\n 480,\n 481,\n 482,\n 483,\n 485,\n 487,\n 488,\n 489,\n 492,\n 495,\n 496,\n 497,\n 498,\n 499,\n 500,\n 501,\n 502,\n 503,\n 504,\n 506,\n 507,\n 509,\n 510,\n 512,\n 513,\n 514,\n 516,\n 517,\n 518,\n 519,\n 520,\n 521,\n 522,\n 524,\n 525,\n 526,\n 528,\n 529,\n 531,\n 532,\n 533,\n 534,\n 535,\n 538,\n 539,\n 540,\n 541,\n 542,\n 543,\n 544,\n 546,\n 548,\n 549,\n 550,\n 551,\n 553,\n 554,\n 555,\n 556,\n 557,\n 559,\n 563,\n 564,\n 565,\n 566,\n 568,\n 569,\n 570,\n 571,\n 572,\n 573,\n 574,\n 575,\n 576,\n 577,\n 579,\n 580,\n 581,\n 583,\n 584,\n 585,\n 586,\n 587,\n 588,\n 589,\n 590,\n 591,\n 592,\n 593,\n 594,\n 597,\n 598,\n 599,\n 600,\n 601,\n 602,\n 603,\n 604,\n 605,\n 606,\n 607,\n 608,\n 609,\n 610,\n 611,\n 612,\n 613,\n 614,\n 615,\n 616,\n 618,\n 619,\n 620,\n 622,\n 624,\n 627,\n 630,\n 631,\n 636,\n 637,\n 638,\n 639,\n 640,\n 641,\n 642,\n 643,\n 644,\n 645,\n 646,\n 650,\n 651,\n 652,\n 654,\n 655,\n 656,\n 657,\n 658,\n 660,\n 661,\n 662,\n 663,\n 664,\n 665,\n 666,\n 669,\n 670,\n 671,\n 673,\n 676,\n 678,\n 681,\n 682,\n 683,\n 684,\n 685,\n 686,\n 687,\n 689,\n 690,\n 693,\n 694,\n 695,\n 696,\n 697,\n 698,\n 699,\n 701,\n 702,\n 703,\n 706,\n 707,\n 708,\n 710,\n 712,\n 713,\n 714,\n 715,\n 716,\n 717,\n 718,\n 719,\n 720,\n 722,\n 725,\n 729,\n 730,\n 731,\n 732,\n 733,\n 734,\n 736,\n 737,\n 738,\n 739,\n 740,\n 741,\n 744,\n 746,\n 747,\n 748,\n 749,\n 751,\n 752,\n 753,\n 757,\n 758,\n 759,\n 761,\n 762,\n 764,\n 765,\n 766,\n 768,\n 769,\n 772,\n 773,\n 774,\n 775,\n 776,\n 777,\n 778,\n 779,\n 780,\n 781,\n 782,\n 783,\n 784,\n 785,\n 786,\n 787,\n 788,\n 789,\n 790,\n 791,\n 793,\n 795,\n 798,\n 799,\n 800,\n 804,\n 805,\n 806,\n 807,\n 808,\n 809,\n 810,\n 812,\n 814,\n 816,\n 817,\n 818,\n 820,\n 821,\n 822,\n 823,\n 824,\n 825,\n 826,\n 827,\n 828,\n 829,\n 830,\n 831,\n 833,\n 834,\n 835,\n 836,\n 837,\n 839,\n 840,\n 841,\n 843,\n 844,\n 845,\n 846,\n 847,\n 848,\n 849,\n 850,\n 851,\n 853,\n 854,\n 856,\n 857,\n 858,\n 860,\n 861,\n 862,\n 863,\n 864,\n 865,\n 866,\n 867,\n 868,\n 869,\n 870,\n 871,\n 872,\n 873,\n 874,\n 875,\n 876,\n 879,\n 880,\n 881,\n 882,\n 884,\n 886,\n 887,\n 889,\n 890,\n 892,\n 894,\n 895,\n 896,\n 897,\n 898,\n 899,\n 900,\n 901,\n 904,\n 905,\n 906,\n 907,\n 908,\n 909,\n 910,\n 911,\n 912,\n 913,\n 914,\n 915,\n 916,\n 917,\n 918,\n 921,\n 922,\n 923,\n 924,\n 925,\n 926,\n 927,\n 928,\n 929,\n 930,\n 931,\n 933,\n 934,\n 935,\n 936,\n 937,\n 938,\n 939,\n 940,\n 941,\n 942,\n 943,\n 945,\n 946,\n 947,\n 949,\n 950,\n 951,\n 952,\n 953,\n 954,\n 955,\n 956,\n 957,\n 958,\n 959,\n 960,\n 961,\n 962,\n 963,\n 964,\n 965,\n 966,\n 968,\n 969,\n 970,\n 971,\n 972,\n 973,\n 974,\n 975,\n 976,\n 978,\n 979,\n 981,\n 982,\n 983,\n 984,\n 986,\n 987,\n 988,\n 989,\n 990,\n 991,\n 992,\n 993,\n 994,\n 995,\n 996,\n 997,\n 998,\n 999,\n 1000,\n 1001,\n 1002,\n 1003,\n 1004,\n 1005,\n 1006,\n 1007,\n 1008,\n 1009,\n 1010,\n 1011,\n 1012,\n 1013,\n 1014,\n 1015,\n 1016,\n 1017,\n 1018,\n 1019,\n 1020,\n 1021,\n 1022,\n 1023,\n 1024,\n 1025,\n 1027,\n 1028,\n 1029,\n 1030,\n 1031,\n 1033,\n 1034,\n 1035,\n 1036,\n 1037,\n 1040,\n 1041,\n 1042,\n 1043,\n 1045,\n 1046,\n 1047,\n 1048,\n 1049,\n 1050,\n 1051,\n 1053,\n 1055,\n 1056,\n 1064,\n 1066,\n 1068,\n 1069,\n 1070,\n 1071,\n 1072,\n 1073,\n 1074,\n 1075,\n 1077,\n 1078,\n 1080,\n 1082,\n 1083,\n 1084,\n 1086,\n 1087,\n 1088,\n 1089,\n 1090,\n 1091,\n 1092,\n 1093,\n 1095,\n 1096,\n 1098,\n 1099,\n 1100,\n 1101,\n 1102,\n 1104,\n 1105,\n 1106,\n 1108,\n 1110,\n 1111,\n 1113,\n 1114,\n 1115,\n 1117,\n 1118,\n 1120,\n 1121,\n 1122,\n 1123,\n 1125,\n 1126,\n 1127,\n 1128,\n 1129,\n 1130,\n 1131,\n 1134,\n 1135,\n 1136,\n 1137,\n 1138,\n 1140,\n 1141,\n 1142,\n 1143,\n 1144,\n 1147,\n 1149,\n 1150,\n 1151,\n 1152,\n 1153,\n 1154,\n 1156,\n 1158,\n 1159,\n 1160,\n 1161,\n 1163,\n 1165,\n 1166,\n 1168,\n 1169,\n 1170,\n 1172,\n 1174,\n 1179,\n 1180,\n 1181,\n 1182,\n 1183,\n 1184,\n 1186,\n 1191,\n 1192,\n 1194,\n 1196,\n 1197,\n 1200,\n 1201,\n 1202,\n 1203,\n 1204,\n 1205,\n 1207,\n 1208,\n 1209,\n 1210,\n 1211,\n 1213,\n 1214,\n 1215,\n 1216,\n 1218,\n 1219,\n 1220,\n 1221,\n 1222,\n 1223,\n 1227,\n 1229,\n 1230,\n 1231,\n 1232,\n 1233,\n 1234,\n 1236,\n 1237,\n 1239,\n 1240,\n 1241,\n 1242,\n 1244,\n 1246,\n 1247,\n 1248,\n 1249,\n 1250,\n 1251,\n 1252,\n 1253,\n 1254,\n 1255,\n 1256,\n 1257,\n 1258,\n 1259,\n 1260,\n 1261,\n 1263,\n 1264,\n 1266,\n 1267,\n 1268,\n 1269,\n 1270,\n 1272,\n 1274,\n 1275,\n 1276,\n 1277,\n 1278,\n 1279,\n 1280,\n 1281,\n 1282,\n 1284,\n 1285,\n 1286,\n 1287,\n 1288,\n 1289,\n 1290,\n 1291,\n 1292,\n 1293,\n 1294,\n 1295,\n 1296,\n 1297,\n 1298,\n 1299,\n 1301,\n 1302,\n 1303,\n 1304,\n 1305,\n 1306,\n ...]"
     },
     "execution_count": 9,
     "metadata": {},
     "output_type": "execute_result"
    }
   ],
   "source": [
    "train_indices"
   ],
   "metadata": {
    "collapsed": false,
    "pycharm": {
     "name": "#%%\n"
    }
   }
  },
  {
   "cell_type": "code",
   "execution_count": 1,
   "outputs": [],
   "source": [
    "img_path = 'C:/Users/unistmlv/OneDrive - UNIST/UNIST/MLV/KETI과제/코드/ssl_inpainting/images'"
   ],
   "metadata": {
    "collapsed": false,
    "pycharm": {
     "name": "#%%\n"
    }
   }
  },
  {
   "cell_type": "code",
   "execution_count": null,
   "outputs": [],
   "source": [],
   "metadata": {
    "collapsed": false,
    "pycharm": {
     "name": "#%%\n"
    }
   }
  },
  {
   "cell_type": "code",
   "execution_count": null,
   "outputs": [],
   "source": [],
   "metadata": {
    "collapsed": false,
    "pycharm": {
     "name": "#%%\n"
    }
   }
  },
  {
   "cell_type": "code",
   "execution_count": null,
   "outputs": [],
   "source": [],
   "metadata": {
    "collapsed": false,
    "pycharm": {
     "name": "#%%\n"
    }
   }
  },
  {
   "cell_type": "code",
   "execution_count": null,
   "outputs": [],
   "source": [],
   "metadata": {
    "collapsed": false,
    "pycharm": {
     "name": "#%%\n"
    }
   }
  },
  {
   "cell_type": "code",
   "execution_count": 1,
   "outputs": [],
   "source": [
    "import numpy as np\n",
    "from torch.utils.data import DataLoader, Dataset, TensorDataset, Subset\n",
    "import torchvision.transforms as T\n",
    "import torchvision.datasets as D\n",
    "from scipy.io import loadmat\n",
    "import os\n",
    "from torch import Tensor"
   ],
   "metadata": {
    "collapsed": false,
    "pycharm": {
     "name": "#%%\n"
    }
   }
  },
  {
   "cell_type": "code",
   "execution_count": null,
   "outputs": [],
   "source": [
    "class MyDataset(Dataset):\n",
    "    def __init__(self, dataset_name, train_flag, transf):\n",
    "        train_idx_file = os.path.join('D:/data/img_clf/ExtractedFeatures/caltech256_train_idx.txt')\n",
    "        test_idx_file = os.path.join('D:/data/img_clf/ExtractedFeatures/caltech256_test_idx.txt')\n",
    "\n",
    "        if os.path.exists(train_idx_file):\n",
    "            with open(train_idx_file, 'r') as f:\n",
    "                train_indices = f.readlines()\n",
    "            train_indices = list(map(int, train_indices[0].split(',')[:-1]))\n",
    "            with open(test_idx_file, 'r') as f:\n",
    "                test_indices = f.readlines()\n",
    "            test_indices = list(map(int, test_indices[0].split(',')[:-1]))\n",
    "\n",
    "        data = D.ImageFolder(root='D:/data/img_clf/ExtractedFeatures/Caltech256', transform=transf)\n",
    "        indices = train_indices if train_flag else test_indices\n",
    "        self.dataset = Subset(data, indices)\n",
    "\n",
    "    def __getitem__(self, index):\n",
    "        data, target = self.dataset[index]\n",
    "        return data, target, index\n",
    "\n",
    "    def __len__(self):\n",
    "        return len(self.dataset)"
   ],
   "metadata": {
    "collapsed": false,
    "pycharm": {
     "name": "#%%\n"
    }
   }
  },
  {
   "cell_type": "code",
   "execution_count": 2,
   "outputs": [],
   "source": [
    "train_idx_file = os.path.join('D:/data/img_clf/ExtractedFeatures/caltech256_train_idx.txt')\n",
    "test_idx_file = os.path.join('D:/data/img_clf/ExtractedFeatures/caltech256_test_idx.txt')\n",
    "\n",
    "if os.path.exists(train_idx_file):\n",
    "    with open(train_idx_file, 'r') as f:\n",
    "        train_indices = f.readlines()\n",
    "    train_indices = list(map(int, train_indices[0].split(',')[:-1]))\n",
    "    with open(test_idx_file, 'r') as f:\n",
    "        test_indices = f.readlines()\n",
    "    test_indices = list(map(int, test_indices[0].split(',')[:-1]))"
   ],
   "metadata": {
    "collapsed": false,
    "pycharm": {
     "name": "#%%\n"
    }
   }
  },
  {
   "cell_type": "code",
   "execution_count": 5,
   "outputs": [],
   "source": [
    "data = D.ImageFolder(root='D:/data/img_clf/Caltech256/')\n",
    "dataset = Subset(data, train_indices)"
   ],
   "metadata": {
    "collapsed": false,
    "pycharm": {
     "name": "#%%\n"
    }
   }
  },
  {
   "cell_type": "code",
   "execution_count": 7,
   "outputs": [
    {
     "data": {
      "text/plain": "22897"
     },
     "execution_count": 7,
     "metadata": {},
     "output_type": "execute_result"
    }
   ],
   "source": [
    "len(train_indices)"
   ],
   "metadata": {
    "collapsed": false,
    "pycharm": {
     "name": "#%%\n"
    }
   }
  },
  {
   "cell_type": "code",
   "execution_count": 9,
   "outputs": [
    {
     "data": {
      "text/plain": "(<PIL.Image.Image image mode=RGB size=293x251 at 0x1F57B05C6A0>, 256)"
     },
     "execution_count": 9,
     "metadata": {},
     "output_type": "execute_result"
    }
   ],
   "source": [
    "dataset[22896]"
   ],
   "metadata": {
    "collapsed": false,
    "pycharm": {
     "name": "#%%\n"
    }
   }
  },
  {
   "cell_type": "code",
   "execution_count": null,
   "outputs": [],
   "source": [],
   "metadata": {
    "collapsed": false,
    "pycharm": {
     "name": "#%%\n"
    }
   }
  }
 ],
 "metadata": {
  "kernelspec": {
   "name": "pycharm-b637a102",
   "language": "python",
   "display_name": "PyCharm (FL)"
  },
  "language_info": {
   "codemirror_mode": {
    "name": "ipython",
    "version": 2
   },
   "file_extension": ".py",
   "mimetype": "text/x-python",
   "name": "python",
   "nbconvert_exporter": "python",
   "pygments_lexer": "ipython2",
   "version": "2.7.6"
  }
 },
 "nbformat": 4,
 "nbformat_minor": 0
}