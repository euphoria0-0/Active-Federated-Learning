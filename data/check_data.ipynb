{
 "cells": [
  {
   "cell_type": "code",
   "execution_count": 1,
   "metadata": {
    "collapsed": true
   },
   "outputs": [],
   "source": [
    "import bz2\n",
    "import json\n",
    "import numpy as np"
   ]
  },
  {
   "cell_type": "code",
   "execution_count": 2,
   "outputs": [],
   "source": [
    "data = {}\n",
    "ids = []\n",
    "with bz2.BZ2File('D:/data/Reddit/RC_2017-11.bz2', 'r') as f:\n",
    "    for i, line in enumerate(f):\n",
    "        if i > 10000: break  ##### just for test!\n",
    "        line = json.loads(line.rstrip())\n",
    "        data[i] = line"
   ],
   "metadata": {
    "collapsed": false,
    "pycharm": {
     "name": "#%%\n"
    }
   }
  },
  {
   "cell_type": "code",
   "execution_count": 4,
   "outputs": [
    {
     "data": {
      "text/plain": "((84965681,), (84965681,))"
     },
     "execution_count": 4,
     "metadata": {},
     "output_type": "execute_result"
    }
   ],
   "source": [
    "ids = np.array(ids)\n",
    "ids.shape, np.unique(ids).shape"
   ],
   "metadata": {
    "collapsed": false,
    "pycharm": {
     "name": "#%%\n"
    }
   }
  },
  {
   "cell_type": "code",
   "execution_count": 4,
   "outputs": [
    {
     "data": {
      "text/plain": "((10000,), (7881,))"
     },
     "execution_count": 4,
     "metadata": {},
     "output_type": "execute_result"
    }
   ],
   "source": [
    "author = [data[i]['author'] for i in range(10000)]\n",
    "author = np.array(author)\n",
    "author.shape, np.unique(author).shape"
   ],
   "metadata": {
    "collapsed": false,
    "pycharm": {
     "name": "#%%\n"
    }
   }
  },
  {
   "cell_type": "code",
   "execution_count": 5,
   "outputs": [],
   "source": [
    "import torch\n",
    "from collections import Counter"
   ],
   "metadata": {
    "collapsed": false,
    "pycharm": {
     "name": "#%%\n"
    }
   }
  },
  {
   "cell_type": "code",
   "execution_count": 14,
   "outputs": [
    {
     "data": {
      "text/plain": "[63062657, 82243490, 12950417, 57535158, 39878533]"
     },
     "execution_count": 14,
     "metadata": {},
     "output_type": "execute_result"
    }
   ],
   "source": [
    "torch.manual_seed(0)\n",
    "selected_users_idx = torch.randint(84965681, (8000,)).tolist() # preprocessing1\n"
   ],
   "metadata": {
    "collapsed": false,
    "pycharm": {
     "name": "#%%\n"
    }
   }
  },
  {
   "cell_type": "code",
   "execution_count": null,
   "outputs": [],
   "source": [
    "users, text, labels = [], [], []\n",
    "with bz2.BZ2File('D:/data/Reddit/RC_2017-11.bz2', 'r') as f:\n",
    "    for i, line in enumerate(f):\n",
    "        #if i > 10000: break  ##### just for test!\n",
    "        if i in selected_users_idx:\n",
    "            line = json.loads(line.rstrip())\n",
    "            #if (line['body'] != '' or line['author'] == line['subreddit']): # preprocessing3-4\n",
    "            if line['body'] != '':\n",
    "                users.append(line['author'])\n",
    "                text.append(line['body'])\n",
    "                labels.append(int(line['controversiality']))\n",
    "        else:\n",
    "            continue\n",
    "print(len(users))"
   ],
   "metadata": {
    "collapsed": false,
    "pycharm": {
     "name": "#%%\n",
     "is_executing": true
    }
   }
  },
  {
   "cell_type": "code",
   "execution_count": null,
   "outputs": [],
   "source": [
    "# preprocessing3\n",
    "drop_users = []\n",
    "for user, count in Counter(users):\n",
    "    if count > 100:\n",
    "        drop_users.append(user)\n",
    "selected_users_idx = [i for i,x in enumerate(users) if x not in drop_users]\n",
    "print(selected_users_idx)"
   ],
   "metadata": {
    "collapsed": false,
    "pycharm": {
     "name": "#%%\n"
    }
   }
  },
  {
   "cell_type": "code",
   "execution_count": null,
   "outputs": [],
   "source": [
    "num_users = len(selected_users_idx)\n",
    "print(f'Total number of users: {num_users}')\n",
    "text = np.array(text)[selected_users_idx].tolist()\n",
    "labels = np.array(labels)[selected_users_idx].tolist()"
   ],
   "metadata": {
    "collapsed": false,
    "pycharm": {
     "name": "#%%\n"
    }
   }
  },
  {
   "cell_type": "code",
   "execution_count": null,
   "outputs": [],
   "source": [],
   "metadata": {
    "collapsed": false,
    "pycharm": {
     "name": "#%%\n"
    }
   }
  },
  {
   "cell_type": "code",
   "execution_count": null,
   "outputs": [],
   "source": [],
   "metadata": {
    "collapsed": false,
    "pycharm": {
     "name": "#%%\n"
    }
   }
  },
  {
   "cell_type": "code",
   "execution_count": null,
   "outputs": [],
   "source": [],
   "metadata": {
    "collapsed": false,
    "pycharm": {
     "name": "#%%\n"
    }
   }
  }
 ],
 "metadata": {
  "kernelspec": {
   "name": "pycharm-b637a102",
   "language": "python",
   "display_name": "PyCharm (FL)"
  },
  "language_info": {
   "codemirror_mode": {
    "name": "ipython",
    "version": 2
   },
   "file_extension": ".py",
   "mimetype": "text/x-python",
   "name": "python",
   "nbconvert_exporter": "python",
   "pygments_lexer": "ipython2",
   "version": "2.7.6"
  }
 },
 "nbformat": 4,
 "nbformat_minor": 0
}